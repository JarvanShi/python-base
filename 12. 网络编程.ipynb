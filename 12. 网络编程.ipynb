{
 "cells": [
  {
   "cell_type": "markdown",
   "metadata": {},
   "source": [
    "## socket模块"
   ]
  },
  {
   "cell_type": "markdown",
   "metadata": {},
   "source": [
    "网络上的两个程序通过一个双向的通信连接进行数据的交换，连接的一端就是一个socket，也叫套接字，基本就是一个信息通道"
   ]
  },
  {
   "cell_type": "markdown",
   "metadata": {},
   "source": [
    "- **套接字：**服务端套接字、客户端套接字\n",
    "- **实例化套接字：**（普通套接字不用提供任何参数）\n",
    "    - 地址族（默认socket.AF_INET）\n",
    "    - 流套接字（默认socket.SOCK_STREAM），还是数据报套接字（socket.SOCK_DGRAM）\n",
    "    - 协议（默认值0）\n",
    "- **服务器套接字的使用**\n",
    "    - 先调用bind方法，将主机名和端口绑定\n",
    "    - 再调用listen方法监听特定地址， 接受一个参数，设置在队列中等待的连接数，超过就拒绝连接\n",
    "    - 调用accept方法等待接收客户端连接，客户端连接到来时停止等待，返回格式为(client, address)的元组，client为客户端套接字，address为（host, port）\n",
    "- **客户端套接字的使用**\n",
    "    - 调用connect方法，并提供指定地址（在服务端使用socket.gethostname函数获取主机名），格式为(host, port)的元组\n",
    "- **区别**\n",
    "    - 服务器套接字必须随时准备连接的到来，还必须处理多个连接\n",
    "    - 客户端套接字只需连接，任务完成后断开连接即可\n",
    "- **传输数据**\n",
    "    - send方法，提供一个字符串\n",
    "    - recv方法，设置接收数据的最大值，单位为字节，1024\n",
    "- **端口限制**\n",
    "    - Linux或UNIX系统中，需要管理员权限才能使用1024以下的端口，这些端口供标准服务使用\n",
    "    - 80端口供Web服务器使用"
   ]
  },
  {
   "cell_type": "markdown",
   "metadata": {},
   "source": [
    "### 获取内网和公网的ip"
   ]
  },
  {
   "cell_type": "code",
   "execution_count": 29,
   "metadata": {
    "scrolled": true
   },
   "outputs": [
    {
     "name": "stdout",
     "output_type": "stream",
     "text": [
      "公网ip： 58.198.250.196\n",
      "局域网ip： 169.254.22.239\n"
     ]
    }
   ],
   "source": [
    "import requests\n",
    "import socket\n",
    "import re\n",
    "r = requests.get('http://www.net.cn/static/customercare/yourip.asp')\n",
    "s = re.search('<h2>(.+)</h2>', r.text)\n",
    "print('公网IP：', s.group(1))\n",
    "print('局域网IP：', socket.gethostbyname(socket.gethostname()))"
   ]
  },
  {
   "cell_type": "markdown",
   "metadata": {},
   "source": [
    "### 创建最简单的服务器和客户端"
   ]
  },
  {
   "cell_type": "markdown",
   "metadata": {
    "collapsed": true
   },
   "source": [
    "**注意：**下面两个文件要先执行server.py，再执行client.py  \n",
    "**server.py**\n",
    "***\n",
    "<code>\n",
    "import socket\n",
    "\n",
    "s = socket.socket()\n",
    "\n",
    "host = socket.gethostname()\n",
    "port = 1234\n",
    "\n",
    "s.bind((host, port))\n",
    "s.listen(1)\n",
    "\n",
    "client, address = s.accept()\n",
    "while True:\n",
    "    get_words = client.recv(1024)\n",
    "    print('装疯卖傻耍赖皮:\\n', bytes.decode(get_words))\n",
    "    ret_words = input('我：\\n')\n",
    "    client.send(bytes(ret_words, encoding='utf8'))\n",
    "</code>\n",
    "\n",
    "**client.py**\n",
    "***\n",
    "<code>\n",
    "import socket\n",
    "\n",
    "s = socket.socket()  # 实例化客户端套接字\n",
    "\n",
    "host = socket.gethostname()  \n",
    "port = 1234\n",
    "\n",
    "s.connect((host, port))  # 发起连接请求\n",
    "while True:\n",
    "    words = input('我：\\n')\n",
    "    s.send(bytes(words, encoding='utf8'))\n",
    "    print('小帅哥：\\n', bytes.decode(s.recv(1024)))  # 输出接收到的数据\n",
    "</code>"
   ]
  },
  {
   "cell_type": "markdown",
   "metadata": {},
   "source": [
    "### SocketServer及相关的类"
   ]
  },
  {
   "cell_type": "markdown",
   "metadata": {},
   "source": [
    "- SocketServer是标准库提供的服务器框架的基石\n",
    "- SocketServer包含四个基本的服务器\n",
    "    - TCPServer （支持TCP套接字流）\n",
    "    - UDPServer （支持UDP数据报套接字）\n",
    "    - UnixStreamServer\n",
    "    - UnixDatagramServer\n",
    "- 大部分代码运行在请求处理器中\n",
    "    - 基本请求处理程序类BaseRequestHandler，将所有操作都放在一个方法中——服务器调用的方法handle，通过属性self.request来访问客户端套接字\n",
    "    - StreamRequestHandler类，它包含另外两个属性：self.rfile（用于读取）和self.wfile（用于写入），可使用这两个类似于文件的对象来与客户端通信"
   ]
  },
  {
   "cell_type": "code",
   "execution_count": null,
   "metadata": {
    "scrolled": false
   },
   "outputs": [],
   "source": [
    "from socketserver import TCPServer, StreamRequestHandler\n",
    "class Handler(StreamRequestHandler):\n",
    "    def handle(self):\n",
    "        addr = self.request.getpeername()\n",
    "        print('Got connection from ', addr)\n",
    "        self.wfile.write('Thank you for connecting.')\n",
    "\n",
    "\n",
    "server = TCPServer((socketserver.socket.gethostname(), 1234), Handler)\n",
    "server.serve_forever()"
   ]
  },
  {
   "cell_type": "markdown",
   "metadata": {},
   "source": [
    "## 多个连接"
   ]
  },
  {
   "cell_type": "markdown",
   "metadata": {},
   "source": [
    "处理多个连接\n",
    "1. 分叉\n",
    "2. 线程化\n",
    "3. 异步I/O"
   ]
  },
  {
   "cell_type": "markdown",
   "metadata": {},
   "source": [
    "### 分叉"
   ]
  },
  {
   "cell_type": "markdown",
   "metadata": {},
   "source": [
    "**原理**\n",
    "1. 对进程进行分叉，就是对进程进行**复制**，且每个进程都有自己的**内存副本**\n",
    "2. 分叉后的进程从**当前位置**继续运行\n",
    "3. 原进程称为**父进程**，复制的进程称为**子进程**，可通过fork函数判断\n",
    "***\n",
    "**实例**\n",
    "1. 对于每个客户端连接，通过分叉创建一个子进程\n",
    "2. 父进程继续监听连接，子进程负责处理客户端请求\n",
    "3. 子进程处理完客户端请求，即可退出\n",
    "4. 子进程间都是并行运行，客户端无需等待，占用资源多\n",
    "***\n",
    "**windows不支持分叉**"
   ]
  },
  {
   "cell_type": "markdown",
   "metadata": {},
   "source": [
    "#### 分叉处理器"
   ]
  },
  {
   "cell_type": "code",
   "execution_count": null,
   "metadata": {
    "collapsed": true
   },
   "outputs": [],
   "source": [
    "from socketserver import TCPServer, ForkingMixIn, StreamRequestHandler\n",
    "class Server(ForkingMixIn, TCPServer): pass\n",
    "class Handler(StreamRequestHandler):\n",
    "def handle(self):\n",
    "addr = self.request.getpeername()\n",
    "print('Got connection from', addr)\n",
    "self.wfile.write('Thank you for connecting')\n",
    "server = Server(('', 1234), Handler)\n",
    "server.serve_forever()"
   ]
  },
  {
   "cell_type": "markdown",
   "metadata": {},
   "source": [
    "### 线程化"
   ]
  },
  {
   "cell_type": "markdown",
   "metadata": {
    "collapsed": true
   },
   "source": [
    "- 线程是轻量级的进程（子进程），同时位于一个进程中共享内存\n",
    "- **线程共享内存**：可能会干扰内存空间，处理复杂"
   ]
  },
  {
   "cell_type": "markdown",
   "metadata": {},
   "source": [
    "#### 线程化处理器"
   ]
  },
  {
   "cell_type": "code",
   "execution_count": null,
   "metadata": {
    "collapsed": true
   },
   "outputs": [],
   "source": [
    "from socketserver import TCPServer, ThreadingMixIn, StreamRequestHandler\n",
    "class Server(ThreadingMixIn, TCPServer): pass\n",
    "class Handler(StreamRequestHandler):\n",
    "def handle(self):\n",
    "addr = self.request.getpeername()\n",
    "print('Got connection from', addr)\n",
    "self.wfile.write('Thank you for connecting')\n",
    "server = Server(('', 1234), Handler)\n",
    "server.serve_forever()"
   ]
  },
  {
   "cell_type": "markdown",
   "metadata": {},
   "source": [
    "### 异步I/O"
   ]
  },
  {
   "cell_type": "markdown",
   "metadata": {
    "collapsed": true
   },
   "source": [
    "- 只处理当前正在通信的客户端，甚至无需不断监听，只需监听后将客户端加入队列即可\n",
    "- **select**模块\n",
    "    - select函数包含三个必选参数和一个可选参数\n",
    "        - 必选参数：三个序列，等待的输入连接、等待的输出连接、等待的错误连接\n",
    "        - 可选参数：超时时间\n",
    "    - poll函数（windows不支持）"
   ]
  },
  {
   "cell_type": "code",
   "execution_count": null,
   "metadata": {
    "collapsed": true
   },
   "outputs": [],
   "source": []
  },
  {
   "cell_type": "markdown",
   "metadata": {},
   "source": [
    "## twisted框架"
   ]
  },
  {
   "cell_type": "markdown",
   "metadata": {
    "collapsed": true
   },
   "source": [
    "异步网络编程框架，可以实现事件处理程序"
   ]
  },
  {
   "cell_type": "code",
   "execution_count": null,
   "metadata": {
    "collapsed": true
   },
   "outputs": [],
   "source": [
    "from twisted.internet import reactor\n",
    "from twisted.internet.protocol import Factory\n",
    "from twisted.protocols.basic import LineReceiver\n",
    "\n",
    "class SimpleLogger(LineReceiver):\n",
    "    def connectionMade(self):\n",
    "        print('Got connection from', self.transport.client)\n",
    "    def connectionLost(self, reason):\n",
    "        print(self.transport.client, 'disconnected')\n",
    "    def lineReceived(self, line):\n",
    "        print(line)\n",
    "\n",
    "factory = Factory()\n",
    "factory.protocol = SimpleLogger\n",
    "reactor.listenTCP(1234, factory)\n",
    "reactor.run()"
   ]
  }
 ],
 "metadata": {
  "kernelspec": {
   "display_name": "Python 3",
   "language": "python",
   "name": "python3"
  },
  "language_info": {
   "codemirror_mode": {
    "name": "ipython",
    "version": 3
   },
   "file_extension": ".py",
   "mimetype": "text/x-python",
   "name": "python",
   "nbconvert_exporter": "python",
   "pygments_lexer": "ipython3",
   "version": "3.6.4"
  },
  "toc": {
   "base_numbering": 1,
   "nav_menu": {},
   "number_sections": true,
   "sideBar": true,
   "skip_h1_title": false,
   "title_cell": "Table of Contents",
   "title_sidebar": "Contents",
   "toc_cell": false,
   "toc_position": {},
   "toc_section_display": true,
   "toc_window_display": true
  }
 },
 "nbformat": 4,
 "nbformat_minor": 2
}
