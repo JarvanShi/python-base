{
 "cells": [
  {
   "cell_type": "markdown",
   "metadata": {},
   "source": [
    "## 写在前面"
   ]
  },
  {
   "cell_type": "markdown",
   "metadata": {},
   "source": [
    "- importlib.reload\n",
    "- \\_\\_name\\_\\_\n",
    "- sys.path\n",
    "- os.path\n",
    "- dir, \\_\\_all\\_\\_, help, \\_\\_doc\\_\\_, \\_\\_file\\_\\_\n",
    "- heapq: heappush, heappop, heapreplace, heapify, nlargest, nsmallest\n",
    "- deque: append, appendleft, pop, popleft, rotate\n",
    "- time: ctime, mktime, localtime, asctime\n",
    "- random: random, uniform, randrange, choice, samples, shuffle\n",
    "- re: compile, match, search, findall, split, sub, escape"
   ]
  },
  {
   "cell_type": "markdown",
   "metadata": {},
   "source": [
    "## 模块\n",
    "- 模块并不是用来执行操作（如打印文本）的，而是用于定义变量、函数、类等\n",
    "- 模块存储在扩展名为.py的文件里\n",
    "- 作用：重用代码\n",
    "- 包：是一种模块，可以包含其他模块。包是一个包含\\_\\_init\\_\\_.py文件的目录"
   ]
  },
  {
   "cell_type": "markdown",
   "metadata": {},
   "source": [
    "## 让模块可用"
   ]
  },
  {
   "cell_type": "markdown",
   "metadata": {},
   "source": [
    "### 搜索路径  \n",
    "- python解释器的搜索路径\n",
    "- 最好把模块放在site-package目录中"
   ]
  },
  {
   "cell_type": "code",
   "execution_count": 1,
   "metadata": {
    "scrolled": true
   },
   "outputs": [
    {
     "name": "stdout",
     "output_type": "stream",
     "text": [
      "['C:\\\\Users\\\\SHIDAWEI558\\\\jupyter notebook workspace',\n",
      " 'D:\\\\app\\\\anaconda\\\\python37.zip',\n",
      " 'D:\\\\app\\\\anaconda\\\\DLLs',\n",
      " 'D:\\\\app\\\\anaconda\\\\lib',\n",
      " 'D:\\\\app\\\\anaconda',\n",
      " '',\n",
      " 'D:\\\\app\\\\anaconda\\\\lib\\\\site-packages',\n",
      " 'D:\\\\app\\\\anaconda\\\\lib\\\\site-packages\\\\win32',\n",
      " 'D:\\\\app\\\\anaconda\\\\lib\\\\site-packages\\\\win32\\\\lib',\n",
      " 'D:\\\\app\\\\anaconda\\\\lib\\\\site-packages\\\\Pythonwin',\n",
      " 'D:\\\\app\\\\anaconda\\\\lib\\\\site-packages\\\\IPython\\\\extensions',\n",
      " 'C:\\\\Users\\\\SHIDAWEI558\\\\.ipython']\n"
     ]
    }
   ],
   "source": [
    "import sys, pprint\n",
    "pprint.pprint(sys.path)"
   ]
  },
  {
   "cell_type": "markdown",
   "metadata": {},
   "source": [
    "### 添加路径"
   ]
  },
  {
   "cell_type": "code",
   "execution_count": 6,
   "metadata": {
    "collapsed": true,
    "scrolled": true
   },
   "outputs": [],
   "source": [
    "import sys\n",
    "sys.path.append(\"D:\\\\app\")"
   ]
  },
  {
   "cell_type": "code",
   "execution_count": 7,
   "metadata": {
    "scrolled": true
   },
   "outputs": [
    {
     "data": {
      "text/plain": [
       "['C:\\\\Users\\\\SHIDAWEI558\\\\jupyter notebook workspace',\n",
       " 'D:\\\\app\\\\anaconda\\\\python37.zip',\n",
       " 'D:\\\\app\\\\anaconda\\\\DLLs',\n",
       " 'D:\\\\app\\\\anaconda\\\\lib',\n",
       " 'D:\\\\app\\\\anaconda',\n",
       " '',\n",
       " 'D:\\\\app\\\\anaconda\\\\lib\\\\site-packages',\n",
       " 'D:\\\\app\\\\anaconda\\\\lib\\\\site-packages\\\\win32',\n",
       " 'D:\\\\app\\\\anaconda\\\\lib\\\\site-packages\\\\win32\\\\lib',\n",
       " 'D:\\\\app\\\\anaconda\\\\lib\\\\site-packages\\\\Pythonwin',\n",
       " 'D:\\\\app\\\\anaconda\\\\lib\\\\site-packages\\\\IPython\\\\extensions',\n",
       " 'C:\\\\Users\\\\SHIDAWEI558\\\\.ipython',\n",
       " 'D:\\\\app']"
      ]
     },
     "execution_count": 7,
     "metadata": {},
     "output_type": "execute_result"
    }
   ],
   "source": [
    "sys.path"
   ]
  },
  {
   "cell_type": "markdown",
   "metadata": {},
   "source": [
    "## import\n",
    "- 模块只需要导入一次\n",
    "- 如果确实要重新导入，使用importlib.reload"
   ]
  },
  {
   "cell_type": "code",
   "execution_count": 10,
   "metadata": {
    "scrolled": true
   },
   "outputs": [
    {
     "data": {
      "text/plain": [
       "<module 'numpy' from 'D:\\\\app\\\\anaconda\\\\lib\\\\site-packages\\\\numpy\\\\__init__.py'>"
      ]
     },
     "execution_count": 10,
     "metadata": {},
     "output_type": "execute_result"
    }
   ],
   "source": [
    "import numpy\n",
    "import importlib\n",
    "importlib.reload(numpy)"
   ]
  },
  {
   "cell_type": "markdown",
   "metadata": {},
   "source": [
    "## \\_\\_name\\_\\_  \n",
    "判断模块是作为程序运行，还是被导入另一个模块"
   ]
  },
  {
   "cell_type": "markdown",
   "metadata": {},
   "source": [
    "\\# hello.py\n",
    "<code>\n",
    "    def hello():\n",
    "        print(\"hello world\")\n",
    "    if \\_\\_name\\_\\_ == \"\\_\\_main__\":\n",
    "        hello()\n",
    "</code>\n",
    "运行hello.py，输出\"hello word\"，此时\\_\\_name__等于\\_\\_main\\_\\_\n",
    "\n",
    "\\# hello2.py\n",
    "<code>\n",
    "    import hello\n",
    "</code>\n",
    "运行hello2.py不会输出\"hello world\"，此时\\_\\_name__等于hello"
   ]
  },
  {
   "cell_type": "markdown",
   "metadata": {},
   "source": [
    "## 探索模块copy  \n",
    "- 深复制：\n",
    "    - 调用copy.deepcopy(x)\n",
    "    - 创建x的属性的副本\n",
    "- 浅复制：\n",
    "    - 调用copy.copy(x)\n",
    "    - 副本的属性关联到x的属性"
   ]
  },
  {
   "cell_type": "markdown",
   "metadata": {},
   "source": [
    "### dir函数  \n",
    "查询对象所有的属性，模块对应与变量、函数、类等"
   ]
  },
  {
   "cell_type": "code",
   "execution_count": 8,
   "metadata": {
    "collapsed": true,
    "scrolled": true
   },
   "outputs": [],
   "source": [
    "import copy"
   ]
  },
  {
   "cell_type": "code",
   "execution_count": 11,
   "metadata": {
    "collapsed": true
   },
   "outputs": [
    {
     "data": {
      "text/plain": [
       "['Error',\n",
       " '_copy_dispatch',\n",
       " '_copy_immutable',\n",
       " '_deepcopy_atomic',\n",
       " '_deepcopy_dict',\n",
       " '_deepcopy_dispatch',\n",
       " '_deepcopy_list',\n",
       " '_deepcopy_method',\n",
       " '_deepcopy_tuple',\n",
       " '_keep_alive',\n",
       " '_reconstruct',\n",
       " 'copy',\n",
       " 'deepcopy',\n",
       " 'dispatch_table',\n",
       " 'error']"
      ]
     },
     "execution_count": 11,
     "metadata": {},
     "output_type": "execute_result"
    }
   ],
   "source": [
    "[n for n in dir(copy) if not n.startswith(\"__\")]  # 过滤双下划线开头的属性"
   ]
  },
  {
   "cell_type": "markdown",
   "metadata": {},
   "source": [
    "### \\_\\_all__  \n",
    "- 模块的公有属性\n",
    "- 其他属性必须显式导入"
   ]
  },
  {
   "cell_type": "code",
   "execution_count": 12,
   "metadata": {
    "scrolled": true
   },
   "outputs": [
    {
     "data": {
      "text/plain": [
       "['Error', 'copy', 'deepcopy']"
      ]
     },
     "execution_count": 12,
     "metadata": {},
     "output_type": "execute_result"
    }
   ],
   "source": [
    "copy.__all__"
   ]
  },
  {
   "cell_type": "markdown",
   "metadata": {},
   "source": [
    "### help函数  \n",
    "查看模块所有信息"
   ]
  },
  {
   "cell_type": "code",
   "execution_count": 13,
   "metadata": {
    "collapsed": true
   },
   "outputs": [
    {
     "name": "stdout",
     "output_type": "stream",
     "text": [
      "Help on module copy:\n",
      "\n",
      "NAME\n",
      "    copy - Generic (shallow and deep) copying operations.\n",
      "\n",
      "DESCRIPTION\n",
      "    Interface summary:\n",
      "    \n",
      "            import copy\n",
      "    \n",
      "            x = copy.copy(y)        # make a shallow copy of y\n",
      "            x = copy.deepcopy(y)    # make a deep copy of y\n",
      "    \n",
      "    For module specific errors, copy.Error is raised.\n",
      "    \n",
      "    The difference between shallow and deep copying is only relevant for\n",
      "    compound objects (objects that contain other objects, like lists or\n",
      "    class instances).\n",
      "    \n",
      "    - A shallow copy constructs a new compound object and then (to the\n",
      "      extent possible) inserts *the same objects* into it that the\n",
      "      original contains.\n",
      "    \n",
      "    - A deep copy constructs a new compound object and then, recursively,\n",
      "      inserts *copies* into it of the objects found in the original.\n",
      "    \n",
      "    Two problems often exist with deep copy operations that don't exist\n",
      "    with shallow copy operations:\n",
      "    \n",
      "     a) recursive objects (compound objects that, directly or indirectly,\n",
      "        contain a reference to themselves) may cause a recursive loop\n",
      "    \n",
      "     b) because deep copy copies *everything* it may copy too much, e.g.\n",
      "        administrative data structures that should be shared even between\n",
      "        copies\n",
      "    \n",
      "    Python's deep copy operation avoids these problems by:\n",
      "    \n",
      "     a) keeping a table of objects already copied during the current\n",
      "        copying pass\n",
      "    \n",
      "     b) letting user-defined classes override the copying operation or the\n",
      "        set of components copied\n",
      "    \n",
      "    This version does not copy types like module, class, function, method,\n",
      "    nor stack trace, stack frame, nor file, socket, window, nor array, nor\n",
      "    any similar types.\n",
      "    \n",
      "    Classes can use the same interfaces to control copying that they use\n",
      "    to control pickling: they can define methods called __getinitargs__(),\n",
      "    __getstate__() and __setstate__().  See the documentation for module\n",
      "    \"pickle\" for information on these methods.\n",
      "\n",
      "CLASSES\n",
      "    builtins.Exception(builtins.BaseException)\n",
      "        Error\n",
      "    \n",
      "    class Error(builtins.Exception)\n",
      "     |  Common base class for all non-exit exceptions.\n",
      "     |  \n",
      "     |  Method resolution order:\n",
      "     |      Error\n",
      "     |      builtins.Exception\n",
      "     |      builtins.BaseException\n",
      "     |      builtins.object\n",
      "     |  \n",
      "     |  Data descriptors defined here:\n",
      "     |  \n",
      "     |  __weakref__\n",
      "     |      list of weak references to the object (if defined)\n",
      "     |  \n",
      "     |  ----------------------------------------------------------------------\n",
      "     |  Methods inherited from builtins.Exception:\n",
      "     |  \n",
      "     |  __init__(self, /, *args, **kwargs)\n",
      "     |      Initialize self.  See help(type(self)) for accurate signature.\n",
      "     |  \n",
      "     |  ----------------------------------------------------------------------\n",
      "     |  Static methods inherited from builtins.Exception:\n",
      "     |  \n",
      "     |  __new__(*args, **kwargs) from builtins.type\n",
      "     |      Create and return a new object.  See help(type) for accurate signature.\n",
      "     |  \n",
      "     |  ----------------------------------------------------------------------\n",
      "     |  Methods inherited from builtins.BaseException:\n",
      "     |  \n",
      "     |  __delattr__(self, name, /)\n",
      "     |      Implement delattr(self, name).\n",
      "     |  \n",
      "     |  __getattribute__(self, name, /)\n",
      "     |      Return getattr(self, name).\n",
      "     |  \n",
      "     |  __reduce__(...)\n",
      "     |      Helper for pickle.\n",
      "     |  \n",
      "     |  __repr__(self, /)\n",
      "     |      Return repr(self).\n",
      "     |  \n",
      "     |  __setattr__(self, name, value, /)\n",
      "     |      Implement setattr(self, name, value).\n",
      "     |  \n",
      "     |  __setstate__(...)\n",
      "     |  \n",
      "     |  __str__(self, /)\n",
      "     |      Return str(self).\n",
      "     |  \n",
      "     |  with_traceback(...)\n",
      "     |      Exception.with_traceback(tb) --\n",
      "     |      set self.__traceback__ to tb and return self.\n",
      "     |  \n",
      "     |  ----------------------------------------------------------------------\n",
      "     |  Data descriptors inherited from builtins.BaseException:\n",
      "     |  \n",
      "     |  __cause__\n",
      "     |      exception cause\n",
      "     |  \n",
      "     |  __context__\n",
      "     |      exception context\n",
      "     |  \n",
      "     |  __dict__\n",
      "     |  \n",
      "     |  __suppress_context__\n",
      "     |  \n",
      "     |  __traceback__\n",
      "     |  \n",
      "     |  args\n",
      "\n",
      "FUNCTIONS\n",
      "    copy(x)\n",
      "        Shallow copy operation on arbitrary Python objects.\n",
      "        \n",
      "        See the module's __doc__ string for more info.\n",
      "    \n",
      "    deepcopy(x, memo=None, _nil=[])\n",
      "        Deep copy operation on arbitrary Python objects.\n",
      "        \n",
      "        See the module's __doc__ string for more info.\n",
      "\n",
      "DATA\n",
      "    __all__ = ['Error', 'copy', 'deepcopy']\n",
      "\n",
      "FILE\n",
      "    d:\\app\\anaconda\\lib\\copy.py\n",
      "\n",
      "\n"
     ]
    }
   ],
   "source": [
    "help(copy)"
   ]
  },
  {
   "cell_type": "markdown",
   "metadata": {},
   "source": [
    "### \\_\\_doc__  \n",
    "文档字符串"
   ]
  },
  {
   "cell_type": "code",
   "execution_count": 15,
   "metadata": {
    "collapsed": true
   },
   "outputs": [
    {
     "name": "stdout",
     "output_type": "stream",
     "text": [
      "Generic (shallow and deep) copying operations.\n",
      "\n",
      "Interface summary:\n",
      "\n",
      "        import copy\n",
      "\n",
      "        x = copy.copy(y)        # make a shallow copy of y\n",
      "        x = copy.deepcopy(y)    # make a deep copy of y\n",
      "\n",
      "For module specific errors, copy.Error is raised.\n",
      "\n",
      "The difference between shallow and deep copying is only relevant for\n",
      "compound objects (objects that contain other objects, like lists or\n",
      "class instances).\n",
      "\n",
      "- A shallow copy constructs a new compound object and then (to the\n",
      "  extent possible) inserts *the same objects* into it that the\n",
      "  original contains.\n",
      "\n",
      "- A deep copy constructs a new compound object and then, recursively,\n",
      "  inserts *copies* into it of the objects found in the original.\n",
      "\n",
      "Two problems often exist with deep copy operations that don't exist\n",
      "with shallow copy operations:\n",
      "\n",
      " a) recursive objects (compound objects that, directly or indirectly,\n",
      "    contain a reference to themselves) may cause a recursive loop\n",
      "\n",
      " b) because deep copy copies *everything* it may copy too much, e.g.\n",
      "    administrative data structures that should be shared even between\n",
      "    copies\n",
      "\n",
      "Python's deep copy operation avoids these problems by:\n",
      "\n",
      " a) keeping a table of objects already copied during the current\n",
      "    copying pass\n",
      "\n",
      " b) letting user-defined classes override the copying operation or the\n",
      "    set of components copied\n",
      "\n",
      "This version does not copy types like module, class, function, method,\n",
      "nor stack trace, stack frame, nor file, socket, window, nor array, nor\n",
      "any similar types.\n",
      "\n",
      "Classes can use the same interfaces to control copying that they use\n",
      "to control pickling: they can define methods called __getinitargs__(),\n",
      "__getstate__() and __setstate__().  See the documentation for module\n",
      "\"pickle\" for information on these methods.\n",
      "\n"
     ]
    }
   ],
   "source": [
    "print(copy.__doc__)"
   ]
  },
  {
   "cell_type": "markdown",
   "metadata": {},
   "source": [
    "### \\_\\_file__  \n",
    "源文件的地址"
   ]
  },
  {
   "cell_type": "code",
   "execution_count": 16,
   "metadata": {},
   "outputs": [
    {
     "data": {
      "text/plain": [
       "'D:\\\\app\\\\anaconda\\\\lib\\\\copy.py'"
      ]
     },
     "execution_count": 16,
     "metadata": {},
     "output_type": "execute_result"
    }
   ],
   "source": [
    "copy.__file__"
   ]
  },
  {
   "cell_type": "markdown",
   "metadata": {},
   "source": [
    "## 常用的标准模块"
   ]
  },
  {
   "cell_type": "markdown",
   "metadata": {},
   "source": [
    "### sys"
   ]
  },
  {
   "cell_type": "code",
   "execution_count": 25,
   "metadata": {},
   "outputs": [
    {
     "name": "stdout",
     "output_type": "stream",
     "text": [
      "C:\\Users\\SHIDAWEI558\\AppData\\Roaming\\jupyter\\runtime\\kernel-75b0a980-4385-429f-bc1b-21263db0ce79.json-f\n"
     ]
    }
   ],
   "source": [
    "import sys\n",
    "print(''.join(reversed(sys.argv[1:])))"
   ]
  },
  {
   "cell_type": "markdown",
   "metadata": {},
   "source": [
    "### os"
   ]
  },
  {
   "cell_type": "code",
   "execution_count": 31,
   "metadata": {
    "collapsed": true
   },
   "outputs": [
    {
     "data": {
      "text/plain": [
       "['D:\\\\app\\\\anaconda',\n",
       " 'D:\\\\app\\\\anaconda\\\\Library\\\\mingw-w64\\\\bin',\n",
       " 'D:\\\\app\\\\anaconda\\\\Library\\\\usr\\\\bin',\n",
       " 'D:\\\\app\\\\anaconda\\\\Library\\\\bin',\n",
       " 'D:\\\\app\\\\anaconda\\\\Scripts',\n",
       " 'D:\\\\app\\\\anaconda\\\\bin',\n",
       " 'D:\\\\app\\\\anaconda\\\\condabin',\n",
       " 'D:\\\\app\\\\anaconda\\\\condabin\\\\Library\\\\mingw-w64\\\\bin',\n",
       " 'D:\\\\app\\\\anaconda\\\\condabin\\\\Library\\\\usr\\\\bin',\n",
       " 'D:\\\\app\\\\anaconda\\\\condabin\\\\Library\\\\bin',\n",
       " 'D:\\\\app\\\\anaconda\\\\condabin\\\\Scripts',\n",
       " 'D:\\\\app\\\\anaconda\\\\condabin\\\\bin',\n",
       " 'D:\\\\app\\\\anaconda',\n",
       " 'D:\\\\app\\\\anaconda\\\\Library\\\\mingw-w64\\\\bin',\n",
       " 'D:\\\\app\\\\anaconda\\\\Library\\\\usr\\\\bin',\n",
       " 'D:\\\\app\\\\anaconda\\\\Library\\\\bin',\n",
       " 'D:\\\\app\\\\anaconda\\\\Scripts',\n",
       " 'C:\\\\Program Files (x86)\\\\Common Files\\\\Oracle\\\\Java\\\\javapath',\n",
       " 'C:\\\\Windows\\\\system32',\n",
       " 'C:\\\\Windows',\n",
       " 'C:\\\\Windows\\\\System32\\\\Wbem',\n",
       " 'C:\\\\Windows\\\\System32\\\\WindowsPowerShell\\\\v1.0\\\\',\n",
       " 'C:\\\\Program Files\\\\TortoiseGit\\\\bin',\n",
       " 'C:\\\\Program Files\\\\TortoiseSVN\\\\bin',\n",
       " 'D:\\\\app\\\\python37\\\\Scripts',\n",
       " 'D:\\\\app\\\\python37',\n",
       " 'C:\\\\Users\\\\SHIDAWEI558\\\\AppData\\\\Local\\\\Microsoft\\\\WindowsApps',\n",
       " '',\n",
       " 'D:\\\\app\\\\anaconda\\\\lib\\\\site-packages\\\\numpy\\\\.libs']"
      ]
     },
     "execution_count": 31,
     "metadata": {},
     "output_type": "execute_result"
    }
   ],
   "source": [
    "import os\n",
    "os.environ['path'].split(';')"
   ]
  },
  {
   "cell_type": "markdown",
   "metadata": {},
   "source": [
    "### fileinput"
   ]
  },
  {
   "cell_type": "code",
   "execution_count": null,
   "metadata": {
    "collapsed": true
   },
   "outputs": [],
   "source": []
  },
  {
   "cell_type": "markdown",
   "metadata": {},
   "source": [
    "### 集合、堆、双端队列"
   ]
  },
  {
   "cell_type": "markdown",
   "metadata": {},
   "source": [
    "#### 集合"
   ]
  },
  {
   "cell_type": "code",
   "execution_count": 2,
   "metadata": {
    "collapsed": true
   },
   "outputs": [],
   "source": [
    "a = {1, 2, 3}\n",
    "b = {2, 3, 4}"
   ]
  },
  {
   "cell_type": "code",
   "execution_count": 4,
   "metadata": {},
   "outputs": [
    {
     "data": {
      "text/plain": [
       "{2, 3}"
      ]
     },
     "execution_count": 4,
     "metadata": {},
     "output_type": "execute_result"
    }
   ],
   "source": [
    "a & b"
   ]
  },
  {
   "cell_type": "code",
   "execution_count": 8,
   "metadata": {},
   "outputs": [
    {
     "data": {
      "text/plain": [
       "{1, 2, 3, 4}"
      ]
     },
     "execution_count": 8,
     "metadata": {},
     "output_type": "execute_result"
    }
   ],
   "source": [
    "a | b"
   ]
  },
  {
   "cell_type": "code",
   "execution_count": 4,
   "metadata": {},
   "outputs": [
    {
     "data": {
      "text/plain": [
       "{1}"
      ]
     },
     "execution_count": 4,
     "metadata": {},
     "output_type": "execute_result"
    }
   ],
   "source": [
    "a - b"
   ]
  },
  {
   "cell_type": "code",
   "execution_count": 5,
   "metadata": {},
   "outputs": [
    {
     "data": {
      "text/plain": [
       "{1, 4}"
      ]
     },
     "execution_count": 5,
     "metadata": {},
     "output_type": "execute_result"
    }
   ],
   "source": [
    "a ^ b"
   ]
  },
  {
   "cell_type": "code",
   "execution_count": 11,
   "metadata": {
    "collapsed": true
   },
   "outputs": [],
   "source": [
    "a.add(frozenset(b))"
   ]
  },
  {
   "cell_type": "code",
   "execution_count": 12,
   "metadata": {},
   "outputs": [
    {
     "data": {
      "text/plain": [
       "{1, 2, 3, frozenset({2, 3, 4})}"
      ]
     },
     "execution_count": 12,
     "metadata": {},
     "output_type": "execute_result"
    }
   ],
   "source": [
    "a"
   ]
  },
  {
   "cell_type": "markdown",
   "metadata": {},
   "source": [
    "#### 堆\n",
    "- python中没有独立的堆类型\n",
    "- 堆对象需要用列表来表示\n",
    "- 堆函数不能用于普通列表，只能用于堆函数创建的列表\n",
    "- 堆特征"
   ]
  },
  {
   "cell_type": "code",
   "execution_count": 8,
   "metadata": {
    "collapsed": true
   },
   "outputs": [],
   "source": [
    "from heapq import *\n",
    "from random import shuffle"
   ]
  },
  {
   "cell_type": "code",
   "execution_count": 15,
   "metadata": {
    "collapsed": true
   },
   "outputs": [],
   "source": [
    "data = list(range(10))\n",
    "heap = []\n",
    "shuffle(data)\n",
    "for n in data:\n",
    "    heappush(heap, n)"
   ]
  },
  {
   "cell_type": "code",
   "execution_count": 16,
   "metadata": {},
   "outputs": [
    {
     "data": {
      "text/plain": [
       "[0, 2, 1, 4, 3, 9, 7, 8, 5, 6]"
      ]
     },
     "execution_count": 16,
     "metadata": {},
     "output_type": "execute_result"
    }
   ],
   "source": [
    "heap"
   ]
  },
  {
   "cell_type": "code",
   "execution_count": 17,
   "metadata": {},
   "outputs": [
    {
     "data": {
      "text/plain": [
       "0"
      ]
     },
     "execution_count": 17,
     "metadata": {},
     "output_type": "execute_result"
    }
   ],
   "source": [
    "heappop(heap)"
   ]
  },
  {
   "cell_type": "code",
   "execution_count": 20,
   "metadata": {
    "collapsed": true
   },
   "outputs": [],
   "source": [
    "heappush(heap, 0.5)"
   ]
  },
  {
   "cell_type": "code",
   "execution_count": 21,
   "metadata": {},
   "outputs": [
    {
     "data": {
      "text/plain": [
       "0.5"
      ]
     },
     "execution_count": 21,
     "metadata": {},
     "output_type": "execute_result"
    }
   ],
   "source": [
    "heappop(heap)"
   ]
  },
  {
   "cell_type": "code",
   "execution_count": 22,
   "metadata": {},
   "outputs": [
    {
     "data": {
      "text/plain": [
       "[1, 2, 6, 4, 3, 9, 7, 8, 5]"
      ]
     },
     "execution_count": 22,
     "metadata": {},
     "output_type": "execute_result"
    }
   ],
   "source": [
    "heap."
   ]
  },
  {
   "cell_type": "code",
   "execution_count": 23,
   "metadata": {},
   "outputs": [
    {
     "data": {
      "text/plain": [
       "1"
      ]
     },
     "execution_count": 23,
     "metadata": {},
     "output_type": "execute_result"
    }
   ],
   "source": [
    "heapreplace(heap, 0.5)"
   ]
  },
  {
   "cell_type": "code",
   "execution_count": 99,
   "metadata": {
    "collapsed": true
   },
   "outputs": [],
   "source": [
    "heap = [0, 2, 1, 4, 3, 9, 7, 8, 5, 6]\n",
    "heapify(heap)"
   ]
  },
  {
   "cell_type": "code",
   "execution_count": 25,
   "metadata": {},
   "outputs": [
    {
     "data": {
      "text/plain": [
       "[0, 2, 1, 4, 3, 9, 7, 8, 5, 6]"
      ]
     },
     "execution_count": 25,
     "metadata": {},
     "output_type": "execute_result"
    }
   ],
   "source": [
    "heap"
   ]
  },
  {
   "cell_type": "code",
   "execution_count": 26,
   "metadata": {},
   "outputs": [
    {
     "data": {
      "text/plain": [
       "[9, 8, 7, 6, 5]"
      ]
     },
     "execution_count": 26,
     "metadata": {},
     "output_type": "execute_result"
    }
   ],
   "source": [
    "itera = [0, 2, 1, 4, 3, 9, 7, 8, 5, 6]\n",
    "nlargest(5, itera)"
   ]
  },
  {
   "cell_type": "code",
   "execution_count": 27,
   "metadata": {},
   "outputs": [
    {
     "data": {
      "text/plain": [
       "[0, 1, 2, 3, 4]"
      ]
     },
     "execution_count": 27,
     "metadata": {},
     "output_type": "execute_result"
    }
   ],
   "source": [
    "nsmallest(5, itera)"
   ]
  },
  {
   "cell_type": "markdown",
   "metadata": {},
   "source": [
    "#### 双端队列\n",
    "- 由可迭代对象创建\n",
    "- 具有列表类似的方法"
   ]
  },
  {
   "cell_type": "code",
   "execution_count": 89,
   "metadata": {
    "collapsed": true
   },
   "outputs": [],
   "source": [
    "from collections import deque"
   ]
  },
  {
   "cell_type": "code",
   "execution_count": 92,
   "metadata": {
    "collapsed": true
   },
   "outputs": [],
   "source": [
    "deq = deque(range(5))"
   ]
  },
  {
   "cell_type": "code",
   "execution_count": 93,
   "metadata": {},
   "outputs": [
    {
     "data": {
      "text/plain": [
       "deque([0, 1, 2, 3, 4, 5])"
      ]
     },
     "execution_count": 93,
     "metadata": {},
     "output_type": "execute_result"
    }
   ],
   "source": [
    "deq.append(5)\n",
    "deq"
   ]
  },
  {
   "cell_type": "code",
   "execution_count": 94,
   "metadata": {},
   "outputs": [
    {
     "data": {
      "text/plain": [
       "deque([-1, 0, 1, 2, 3, 4, 5])"
      ]
     },
     "execution_count": 94,
     "metadata": {},
     "output_type": "execute_result"
    }
   ],
   "source": [
    "deq.appendleft(-1)\n",
    "deq"
   ]
  },
  {
   "cell_type": "code",
   "execution_count": 95,
   "metadata": {},
   "outputs": [
    {
     "data": {
      "text/plain": [
       "deque([-1, 0, 1, 2, 3, 4])"
      ]
     },
     "execution_count": 95,
     "metadata": {},
     "output_type": "execute_result"
    }
   ],
   "source": [
    "deq.pop()\n",
    "deq"
   ]
  },
  {
   "cell_type": "code",
   "execution_count": 96,
   "metadata": {},
   "outputs": [
    {
     "data": {
      "text/plain": [
       "deque([0, 1, 2, 3, 4])"
      ]
     },
     "execution_count": 96,
     "metadata": {},
     "output_type": "execute_result"
    }
   ],
   "source": [
    "deq.popleft()\n",
    "deq"
   ]
  },
  {
   "cell_type": "code",
   "execution_count": 97,
   "metadata": {},
   "outputs": [
    {
     "data": {
      "text/plain": [
       "deque([2, 3, 4, 0, 1])"
      ]
     },
     "execution_count": 97,
     "metadata": {},
     "output_type": "execute_result"
    }
   ],
   "source": [
    "deq.rotate(3)\n",
    "deq"
   ]
  },
  {
   "cell_type": "code",
   "execution_count": 98,
   "metadata": {},
   "outputs": [
    {
     "data": {
      "text/plain": [
       "deque([4, 0, 1, 2, 3])"
      ]
     },
     "execution_count": 98,
     "metadata": {},
     "output_type": "execute_result"
    }
   ],
   "source": [
    "deq.rotate(-2)\n",
    "deq"
   ]
  },
  {
   "cell_type": "markdown",
   "metadata": {},
   "source": [
    "### time  \n",
    "- 时间元组和字符串\n",
    "- timeit计算小段代码的运行时间"
   ]
  },
  {
   "cell_type": "code",
   "execution_count": 104,
   "metadata": {
    "collapsed": true
   },
   "outputs": [],
   "source": [
    "import time"
   ]
  },
  {
   "cell_type": "code",
   "execution_count": 119,
   "metadata": {},
   "outputs": [
    {
     "data": {
      "text/plain": [
       "1559110375.018305"
      ]
     },
     "execution_count": 119,
     "metadata": {},
     "output_type": "execute_result"
    }
   ],
   "source": [
    "time.time()"
   ]
  },
  {
   "cell_type": "code",
   "execution_count": 121,
   "metadata": {
    "scrolled": true
   },
   "outputs": [
    {
     "data": {
      "text/plain": [
       "'Wed May 29 14:13:53 2019'"
      ]
     },
     "execution_count": 121,
     "metadata": {},
     "output_type": "execute_result"
    }
   ],
   "source": [
    "time.ctime()"
   ]
  },
  {
   "cell_type": "code",
   "execution_count": 123,
   "metadata": {
    "scrolled": true
   },
   "outputs": [
    {
     "data": {
      "text/plain": [
       "'Mon Jan 21 12:02:56 2008'"
      ]
     },
     "execution_count": 123,
     "metadata": {},
     "output_type": "execute_result"
    }
   ],
   "source": [
    "time.asctime((2008, 1, 21, 12, 2, 56, 0, 21, 0))  # 将日期元组转换为字符串"
   ]
  },
  {
   "cell_type": "code",
   "execution_count": 109,
   "metadata": {
    "scrolled": true
   },
   "outputs": [
    {
     "data": {
      "text/plain": [
       "time.struct_time(tm_year=2019, tm_mon=5, tm_mday=29, tm_hour=6, tm_min=3, tm_sec=3, tm_wday=2, tm_yday=149, tm_isdst=0)"
      ]
     },
     "execution_count": 109,
     "metadata": {},
     "output_type": "execute_result"
    }
   ],
   "source": [
    "time.gmtime()  # 从新纪元开始后的秒数转换为国际标准时间"
   ]
  },
  {
   "cell_type": "code",
   "execution_count": 112,
   "metadata": {},
   "outputs": [
    {
     "data": {
      "text/plain": [
       "time.struct_time(tm_year=2019, tm_mon=5, tm_mday=29, tm_hour=14, tm_min=5, tm_sec=44, tm_wday=2, tm_yday=149, tm_isdst=0)"
      ]
     },
     "execution_count": 112,
     "metadata": {},
     "output_type": "execute_result"
    }
   ],
   "source": [
    "time.localtime()  # 从新纪元开始后的秒数转换为日期元组(本地时间)"
   ]
  },
  {
   "cell_type": "code",
   "execution_count": 37,
   "metadata": {
    "collapsed": true
   },
   "outputs": [],
   "source": [
    "import timeit"
   ]
  },
  {
   "cell_type": "code",
   "execution_count": 63,
   "metadata": {},
   "outputs": [
    {
     "data": {
      "text/plain": [
       "0.4801158270001906"
      ]
     },
     "execution_count": 63,
     "metadata": {},
     "output_type": "execute_result"
    }
   ],
   "source": [
    "timeit.timeit('map(lambda x:pow(x,2), range(1000))')"
   ]
  },
  {
   "cell_type": "code",
   "execution_count": 74,
   "metadata": {},
   "outputs": [
    {
     "data": {
      "text/plain": [
       "0.7141235710000728"
      ]
     },
     "execution_count": 74,
     "metadata": {},
     "output_type": "execute_result"
    }
   ],
   "source": [
    "timeit.timeit('(pow(x, 2) for x in range(1000))')"
   ]
  },
  {
   "cell_type": "markdown",
   "metadata": {},
   "source": [
    "### random"
   ]
  },
  {
   "cell_type": "markdown",
   "metadata": {},
   "source": [
    "#### 产生伪随机数"
   ]
  },
  {
   "cell_type": "code",
   "execution_count": 134,
   "metadata": {},
   "outputs": [
    {
     "data": {
      "text/plain": [
       "0.7624777499810539"
      ]
     },
     "execution_count": 134,
     "metadata": {},
     "output_type": "execute_result"
    }
   ],
   "source": [
    "random.random()"
   ]
  },
  {
   "cell_type": "code",
   "execution_count": 135,
   "metadata": {},
   "outputs": [
    {
     "data": {
      "text/plain": [
       "-0.8126162690893883"
      ]
     },
     "execution_count": 135,
     "metadata": {},
     "output_type": "execute_result"
    }
   ],
   "source": [
    "random.uniform(-1, 1)"
   ]
  },
  {
   "cell_type": "code",
   "execution_count": 136,
   "metadata": {},
   "outputs": [
    {
     "data": {
      "text/plain": [
       "4"
      ]
     },
     "execution_count": 136,
     "metadata": {},
     "output_type": "execute_result"
    }
   ],
   "source": [
    "random.randrange(0, 10, 2)"
   ]
  },
  {
   "cell_type": "code",
   "execution_count": 139,
   "metadata": {},
   "outputs": [
    {
     "data": {
      "text/plain": [
       "8"
      ]
     },
     "execution_count": 139,
     "metadata": {},
     "output_type": "execute_result"
    }
   ],
   "source": [
    "random.choice(list(range(10)))"
   ]
  },
  {
   "cell_type": "code",
   "execution_count": 141,
   "metadata": {},
   "outputs": [
    {
     "data": {
      "text/plain": [
       "[2, 0, 7, 6, 8, 9, 5, 4, 3, 1]"
      ]
     },
     "execution_count": 141,
     "metadata": {},
     "output_type": "execute_result"
    }
   ],
   "source": [
    "lst = list(range(10))\n",
    "random.shuffle(lst)\n",
    "lst"
   ]
  },
  {
   "cell_type": "code",
   "execution_count": 142,
   "metadata": {},
   "outputs": [
    {
     "data": {
      "text/plain": [
       "[5, 8, 2, 1, 6]"
      ]
     },
     "execution_count": 142,
     "metadata": {},
     "output_type": "execute_result"
    }
   ],
   "source": [
    "random.sample(lst, 5)"
   ]
  },
  {
   "cell_type": "markdown",
   "metadata": {},
   "source": [
    "#### 随机时间"
   ]
  },
  {
   "cell_type": "code",
   "execution_count": 143,
   "metadata": {},
   "outputs": [
    {
     "data": {
      "text/plain": [
       "'Fri Feb  1 22:00:31 2019'"
      ]
     },
     "execution_count": 143,
     "metadata": {},
     "output_type": "execute_result"
    }
   ],
   "source": [
    "from random import uniform\n",
    "from time import mktime, localtime, asctime\n",
    "time1 = mktime((2019, 1, 1, 0, 0, 0, -1, -1, -1))\n",
    "time2 = mktime((2020, 1, 1, 0, 0, 0, -1, -1, -1))\n",
    "random_time = uniform(time1, time2)\n",
    "asctime(localtime(random_time))"
   ]
  },
  {
   "cell_type": "markdown",
   "metadata": {},
   "source": [
    "#### 掷骰子"
   ]
  },
  {
   "cell_type": "code",
   "execution_count": 1,
   "metadata": {},
   "outputs": [
    {
     "name": "stdout",
     "output_type": "stream",
     "text": [
      "How many dices:3\n",
      "How many sides per dice:6\n",
      "[1, 6, 6]\n",
      "The total point is 13.\n"
     ]
    }
   ],
   "source": [
    "from random import randrange\n",
    "dices = int(input(\"How many dices:\"))\n",
    "sides = int(input(\"How many sides per dice:\"))\n",
    "record = []\n",
    "for i in range(dices):\n",
    "    record.append(randrange(sides) + 1)\n",
    "print(record)\n",
    "print(\"The total point is {}.\".format(sum(record)))"
   ]
  },
  {
   "cell_type": "markdown",
   "metadata": {},
   "source": [
    "#### 发扑克牌"
   ]
  },
  {
   "cell_type": "code",
   "execution_count": 23,
   "metadata": {
    "collapsed": true
   },
   "outputs": [],
   "source": [
    "from random import shuffle\n",
    "from pprint import pprint"
   ]
  },
  {
   "cell_type": "code",
   "execution_count": 24,
   "metadata": {
    "collapsed": true
   },
   "outputs": [],
   "source": [
    "values = ['A'] + list(range(2, 11)) + ['J', 'Q', 'K']\n",
    "suits = ['hearts', 'spades', 'clubs', 'diamonds']\n",
    "poker = ['{} of {}'.format(v, s) for v in values[0:14] for s in suits] + ['Black Joker', 'Red Joker']"
   ]
  },
  {
   "cell_type": "code",
   "execution_count": 25,
   "metadata": {
    "collapsed": true
   },
   "outputs": [],
   "source": [
    "player1, player2, player3, player4 = [], [], [], []\n",
    "shuffle(poker)\n",
    "poker = iter(poker)\n",
    "for n in range(round(54/4)+1):\n",
    "    try:\n",
    "        player1.append(next(poker))\n",
    "        player2.append(next(poker))\n",
    "        player3.append(next(poker))\n",
    "        player4.append(next(poker))\n",
    "    except StopIteration:\n",
    "        break"
   ]
  },
  {
   "cell_type": "markdown",
   "metadata": {},
   "source": [
    "### shelve和json  \n",
    "- 模块shelve的open函数，将文件名作为参数，返回一个shelf对象，用来存储数据，可像字典一样进行操作，键必须为字符串，操作完毕时，调用close方法\n",
    "- 元素赋值给键，该元素才能被存储\n",
    "- 修改shelf对象存储的数据\n",
    "    - 通过创建副本来修改，然后再存储\n",
    "    - open函数的参数writeback设置为True"
   ]
  },
  {
   "cell_type": "code",
   "execution_count": 1,
   "metadata": {},
   "outputs": [
    {
     "data": {
      "text/plain": [
       "['a', 'b', 'c']"
      ]
     },
     "execution_count": 1,
     "metadata": {},
     "output_type": "execute_result"
    }
   ],
   "source": [
    "import shelve\n",
    "s = shelve.open('test.dat')\n",
    "s['x'] = ['a', 'b', 'c']\n",
    "s['x'].append('d')\n",
    "s['x']"
   ]
  },
  {
   "cell_type": "code",
   "execution_count": 3,
   "metadata": {},
   "outputs": [
    {
     "data": {
      "text/plain": [
       "['a', 'b', 'c', 'd']"
      ]
     },
     "execution_count": 3,
     "metadata": {},
     "output_type": "execute_result"
    }
   ],
   "source": [
    "temp = s['x']\n",
    "temp.append('d')\n",
    "s['x'] = temp\n",
    "s['x']"
   ]
  },
  {
   "cell_type": "code",
   "execution_count": 4,
   "metadata": {},
   "outputs": [
    {
     "data": {
      "text/plain": [
       "['a', 'b', 'c', 'd']"
      ]
     },
     "execution_count": 4,
     "metadata": {},
     "output_type": "execute_result"
    }
   ],
   "source": [
    "s1 = shelve.open('test1.dat', writeback=True)\n",
    "s1['x'] = ['a', 'b', 'c']\n",
    "s1['x'].append('d')\n",
    "s1['x']"
   ]
  },
  {
   "cell_type": "markdown",
   "metadata": {},
   "source": [
    "#### 存储数据"
   ]
  },
  {
   "cell_type": "code",
   "execution_count": 5,
   "metadata": {
    "collapsed": true
   },
   "outputs": [],
   "source": [
    "import shelve\n",
    "def store_person(db):\n",
    "    \"\"\"\n",
    "    让用户输入数据并且存储在shelf对象中\n",
    "    \"\"\"\n",
    "    try:\n",
    "        pid = input(\"请输入id：\")\n",
    "        person = {}\n",
    "        person['name'] = input(\"请输入姓名：\")\n",
    "        person['age'] = input(\"请输入年龄：\")\n",
    "        person['phone'] = input(\"请输入号码：\")\n",
    "        db[pid] = person\n",
    "    except:\n",
    "        print(\"存储异常\")\n",
    "    else:\n",
    "        print(\"存储成功\")\n",
    "    \n",
    "def lookup_person(db):\n",
    "    \"\"\"\n",
    "    让用户输入pid和字段，从shelf对象中获取相应的数据\n",
    "    \"\"\"\n",
    "    pid = input(\"请输入id：\")\n",
    "    field = input(\"请输入要查询的信息(name,age,phone)：\")\n",
    "    field = field.strip().lower()\n",
    "    try:\n",
    "        print(field.capitalize() + '：', db[pid][field])\n",
    "    except:\n",
    "        print(\"信息不存在\")\n",
    "\n",
    "def print_help():\n",
    "    \"\"\"\n",
    "    显示所有命令信息\n",
    "    \"\"\"\n",
    "    print(\"store ：存储信息\")\n",
    "    print(\"lookup ：查询信息\")\n",
    "    print(\"q ：保存信息并退出\")\n",
    "    print(\"? ：显示所有命令信息\")\n",
    "\n",
    "def enter_command():\n",
    "    \"\"\"\n",
    "    获取用户命令\n",
    "    \"\"\"\n",
    "    cmd = input(\"请输入命令：\")\n",
    "    cmd.strip().lower()\n",
    "    return cmd"
   ]
  },
  {
   "cell_type": "code",
   "execution_count": 9,
   "metadata": {},
   "outputs": [
    {
     "name": "stdout",
     "output_type": "stream",
     "text": [
      "请输入命令：lookup\n",
      "请输入id：001\n",
      "请输入要查询的信息(name,age,phone)：name\n",
      "Name： Apache\n",
      "请输入命令：lookup\n",
      "请输入id：001\n",
      "请输入要查询的信息(name,age,phone)：age\n",
      "Age： 18\n",
      "请输入命令：lookup\n",
      "请输入id：001\n",
      "请输入要查询的信息(name,age,phone)：phone\n",
      "Phone： 010-67729999\n",
      "请输入命令：?\n",
      "store ：存储信息\n",
      "lookup ：查询信息\n",
      "q ：保存信息并退出\n",
      "? ：显示所有命令信息\n",
      "请输入命令：q\n",
      "谢谢使用\n"
     ]
    }
   ],
   "source": [
    "if __name__ == \"__main__\":\n",
    "    database = shelve.open(\"database.dat\")\n",
    "    while True:\n",
    "        cmd = enter_command()\n",
    "        if cmd == \"store\":\n",
    "            store_person(database)\n",
    "        elif cmd == \"lookup\":\n",
    "            lookup_person(database)\n",
    "        elif cmd == \"?\":\n",
    "            print_help()\n",
    "        elif cmd == \"q\":\n",
    "            database.close()\n",
    "            print(\"谢谢使用\")\n",
    "            break\n",
    "        else:\n",
    "            print(\"命令错误\")\n",
    "            continue"
   ]
  },
  {
   "cell_type": "markdown",
   "metadata": {},
   "source": [
    "### re"
   ]
  },
  {
   "cell_type": "markdown",
   "metadata": {},
   "source": [
    "#### 基础知识"
   ]
  },
  {
   "cell_type": "markdown",
   "metadata": {},
   "source": [
    "##### 特殊字符\n",
    "***\n",
    "符号|描述\n",
    ":-:|:-\n",
    ".|通配符，匹配除换行符之外的所有字符\n",
    "^|脱字符，匹配字符串开头，在[]中表示取反\n",
    "$|美元，匹配字符串结束\n",
    "*|匹配0次或多次\n",
    "+|匹配一次或多次\n",
    "?|匹配0次或一次\n",
    "{m,n}|匹配m和n之间的任意次数\n",
    "{m,}|至少匹配m次\n",
    "[abc]|匹配a,b,c中任意一个\n",
    "[^abc]|a,b,c中任意一个都不匹配\n",
    "(abc)|表示abc是一个整体\n",
    "http&#124;https|二分，二选一\n",
    "\\\\ |转义字符\n",
    "-|连字符"
   ]
  },
  {
   "cell_type": "markdown",
   "metadata": {},
   "source": [
    "##### 正则表达式函数\n",
    "***\n",
    "函数|描述\n",
    "-|-\n",
    "compile(pattern[, flags]) |根据包含正则表达式的字符串创建模式对象\n",
    "search(pattern, string[, flags]) |在字符串中查找模式\n",
    "match(pattern, string[, flags]) |在字符串开头匹配模式\n",
    "split(pattern, string[, maxsplit=0]) |根据模式来分割字符串\n",
    "findall(pattern, string) |返回一个列表，其中包含字符串中所有与模式匹配的子串\n",
    "sub(pat, repl, string[, count=0]) |将字符串中与模式pat匹配的子串都替换为repl\n",
    "escape(string) |对字符串中所有的正则表达式特殊字符都进行转义"
   ]
  },
  {
   "cell_type": "code",
   "execution_count": 27,
   "metadata": {
    "collapsed": true
   },
   "outputs": [],
   "source": [
    "import re"
   ]
  },
  {
   "cell_type": "code",
   "execution_count": 26,
   "metadata": {},
   "outputs": [
    {
     "data": {
      "text/plain": [
       "['f', 'o', 'obar']"
      ]
     },
     "execution_count": 26,
     "metadata": {},
     "output_type": "execute_result"
    }
   ],
   "source": [
    "re.split('o(o)', 'foobar')"
   ]
  },
  {
   "cell_type": "code",
   "execution_count": 56,
   "metadata": {},
   "outputs": [
    {
     "data": {
      "text/plain": [
       "['alpha', 'beta', 'gamma', 'delta']"
      ]
     },
     "execution_count": 56,
     "metadata": {},
     "output_type": "execute_result"
    }
   ],
   "source": [
    "some_text = 'alpha, beta,,,,gamma delta'\n",
    "re.split('[, ]+', some_text)"
   ]
  },
  {
   "cell_type": "code",
   "execution_count": 57,
   "metadata": {},
   "outputs": [
    {
     "data": {
      "text/plain": [
       "['alpha', 'beta', 'gamma delta']"
      ]
     },
     "execution_count": 57,
     "metadata": {},
     "output_type": "execute_result"
    }
   ],
   "source": [
    "re.split('[, ]+', some_text, maxsplit=2)"
   ]
  },
  {
   "cell_type": "code",
   "execution_count": 36,
   "metadata": {},
   "outputs": [
    {
     "data": {
      "text/plain": [
       "['Hm', 'Err', 'are', 'you', 'sure', 'he', 'said', 'sounding', 'insecure']"
      ]
     },
     "execution_count": 36,
     "metadata": {},
     "output_type": "execute_result"
    }
   ],
   "source": [
    "text = '\"Hm... Err -- are you sure?\" he said, sounding insecure.'\n",
    "re.findall('[a-zA-Z]+', text)"
   ]
  },
  {
   "cell_type": "code",
   "execution_count": 52,
   "metadata": {},
   "outputs": [
    {
     "data": {
      "text/plain": [
       "['\"', '...', '--', '?\"', ',', '.']"
      ]
     },
     "execution_count": 52,
     "metadata": {},
     "output_type": "execute_result"
    }
   ],
   "source": [
    "re.findall('[\".\\-?,]+', text)"
   ]
  },
  {
   "cell_type": "code",
   "execution_count": 58,
   "metadata": {
    "scrolled": true
   },
   "outputs": [
    {
     "data": {
      "text/plain": [
       "'Dear Mr. Gumby...'"
      ]
     },
     "execution_count": 58,
     "metadata": {},
     "output_type": "execute_result"
    }
   ],
   "source": [
    "re.sub('{name}', 'Mr. Gumby', 'Dear {name}...')"
   ]
  },
  {
   "cell_type": "code",
   "execution_count": 59,
   "metadata": {},
   "outputs": [
    {
     "data": {
      "text/plain": [
       "'https://www\\\\.python\\\\.org'"
      ]
     },
     "execution_count": 59,
     "metadata": {},
     "output_type": "execute_result"
    }
   ],
   "source": [
    "re.escape('https://www.python.org')"
   ]
  },
  {
   "cell_type": "code",
   "execution_count": 74,
   "metadata": {},
   "outputs": [
    {
     "data": {
      "text/plain": [
       "True"
      ]
     },
     "execution_count": 74,
     "metadata": {},
     "output_type": "execute_result"
    }
   ],
   "source": [
    "re.match('python', 'hello') == None"
   ]
  },
  {
   "cell_type": "markdown",
   "metadata": {},
   "source": [
    "#### 匹配对象和编组\n",
    "match和search若找到与模式对象相匹配的子串，则返回匹配对象，否则返回None\n",
    "- 编组：模式对象中圆括号包括的内容\n",
    "- group\n",
    "- start\n",
    "- end\n",
    "- span"
   ]
  },
  {
   "cell_type": "code",
   "execution_count": 2,
   "metadata": {
    "collapsed": true
   },
   "outputs": [],
   "source": [
    "import re"
   ]
  },
  {
   "cell_type": "code",
   "execution_count": 3,
   "metadata": {
    "collapsed": true
   },
   "outputs": [],
   "source": [
    "pat = 'www\\.(.*)\\.(.*)\\.(.*)'\n",
    "url = 'www.suibe.edu.cn'"
   ]
  },
  {
   "cell_type": "code",
   "execution_count": 5,
   "metadata": {},
   "outputs": [],
   "source": [
    "m = re.match(pat, url)"
   ]
  },
  {
   "cell_type": "code",
   "execution_count": 6,
   "metadata": {},
   "outputs": [
    {
     "data": {
      "text/plain": [
       "'www.suibe.edu.cn'"
      ]
     },
     "execution_count": 6,
     "metadata": {},
     "output_type": "execute_result"
    }
   ],
   "source": [
    "m.group(0)"
   ]
  },
  {
   "cell_type": "code",
   "execution_count": 7,
   "metadata": {},
   "outputs": [
    {
     "data": {
      "text/plain": [
       "'suibe'"
      ]
     },
     "execution_count": 7,
     "metadata": {},
     "output_type": "execute_result"
    }
   ],
   "source": [
    "m.group(1)"
   ]
  },
  {
   "cell_type": "code",
   "execution_count": 8,
   "metadata": {},
   "outputs": [
    {
     "data": {
      "text/plain": [
       "'edu'"
      ]
     },
     "execution_count": 8,
     "metadata": {},
     "output_type": "execute_result"
    }
   ],
   "source": [
    "m.group(2)"
   ]
  },
  {
   "cell_type": "code",
   "execution_count": 9,
   "metadata": {},
   "outputs": [
    {
     "data": {
      "text/plain": [
       "'cn'"
      ]
     },
     "execution_count": 9,
     "metadata": {},
     "output_type": "execute_result"
    }
   ],
   "source": [
    "m.group(3)"
   ]
  },
  {
   "cell_type": "code",
   "execution_count": 11,
   "metadata": {},
   "outputs": [
    {
     "data": {
      "text/plain": [
       "0"
      ]
     },
     "execution_count": 11,
     "metadata": {},
     "output_type": "execute_result"
    }
   ],
   "source": [
    "m.start(0)"
   ]
  },
  {
   "cell_type": "code",
   "execution_count": 12,
   "metadata": {},
   "outputs": [
    {
     "data": {
      "text/plain": [
       "4"
      ]
     },
     "execution_count": 12,
     "metadata": {},
     "output_type": "execute_result"
    }
   ],
   "source": [
    "m.start(1)"
   ]
  },
  {
   "cell_type": "code",
   "execution_count": 13,
   "metadata": {},
   "outputs": [
    {
     "data": {
      "text/plain": [
       "9"
      ]
     },
     "execution_count": 13,
     "metadata": {},
     "output_type": "execute_result"
    }
   ],
   "source": [
    "m.end(1)"
   ]
  },
  {
   "cell_type": "code",
   "execution_count": 14,
   "metadata": {},
   "outputs": [
    {
     "data": {
      "text/plain": [
       "(4, 9)"
      ]
     },
     "execution_count": 14,
     "metadata": {},
     "output_type": "execute_result"
    }
   ],
   "source": [
    "m.span(1)"
   ]
  },
  {
   "cell_type": "code",
   "execution_count": 16,
   "metadata": {},
   "outputs": [],
   "source": [
    "s = re.search(pat, url)"
   ]
  },
  {
   "cell_type": "code",
   "execution_count": 21,
   "metadata": {},
   "outputs": [
    {
     "data": {
      "text/plain": [
       "'www.suibe.edu.cn'"
      ]
     },
     "execution_count": 21,
     "metadata": {},
     "output_type": "execute_result"
    }
   ],
   "source": [
    "s.group(0)"
   ]
  },
  {
   "cell_type": "markdown",
   "metadata": {},
   "source": [
    "#### 替换中的编组\n",
    "形式上就是编组的内容不变，其他内容被替换"
   ]
  },
  {
   "cell_type": "code",
   "execution_count": 29,
   "metadata": {
    "collapsed": true
   },
   "outputs": [],
   "source": [
    "pat = r'\\*([^\\*]+)\\*'\n",
    "text = 'hello *python* world!'"
   ]
  },
  {
   "cell_type": "code",
   "execution_count": 30,
   "metadata": {},
   "outputs": [
    {
     "data": {
      "text/plain": [
       "'hello <em>python</em> world!'"
      ]
     },
     "execution_count": 30,
     "metadata": {},
     "output_type": "execute_result"
    }
   ],
   "source": [
    "re.sub(pat, r'<em>\\1</em>', text)"
   ]
  },
  {
   "cell_type": "markdown",
   "metadata": {},
   "source": [
    "#### 贪婪与非贪婪匹配"
   ]
  },
  {
   "cell_type": "code",
   "execution_count": 39,
   "metadata": {
    "collapsed": true
   },
   "outputs": [],
   "source": [
    "pat1 = r'\\*(.+)\\*'  # 贪婪\n",
    "pat2 = r'\\*(.+?)\\*'  # 非贪婪\n",
    "text1 = '*This* is *it*'"
   ]
  },
  {
   "cell_type": "code",
   "execution_count": 42,
   "metadata": {},
   "outputs": [
    {
     "data": {
      "text/plain": [
       "'<em>This* is *it</em>'"
      ]
     },
     "execution_count": 42,
     "metadata": {},
     "output_type": "execute_result"
    }
   ],
   "source": [
    "re.sub(pat1, r'<em>\\1</em>', text1)"
   ]
  },
  {
   "cell_type": "code",
   "execution_count": 43,
   "metadata": {},
   "outputs": [
    {
     "data": {
      "text/plain": [
       "'<em>This</em> is <em>it</em>'"
      ]
     },
     "execution_count": 43,
     "metadata": {},
     "output_type": "execute_result"
    }
   ],
   "source": [
    "re.sub(pat2, r'<em>\\1</em>', text1)"
   ]
  },
  {
   "cell_type": "code",
   "execution_count": 46,
   "metadata": {
    "collapsed": true
   },
   "outputs": [],
   "source": [
    "pat3 = r'\\*\\*(.+?)\\*\\*'\n",
    "text2 = '**This** is **it**'"
   ]
  },
  {
   "cell_type": "code",
   "execution_count": 47,
   "metadata": {},
   "outputs": [
    {
     "data": {
      "text/plain": [
       "'<em>This</em> is <em>it</em>'"
      ]
     },
     "execution_count": 47,
     "metadata": {},
     "output_type": "execute_result"
    }
   ],
   "source": [
    "re.sub(pat3, r'<em>\\1</em>', text2)"
   ]
  },
  {
   "cell_type": "markdown",
   "metadata": {},
   "source": [
    "#### 给正则表达式添加注释"
   ]
  },
  {
   "cell_type": "code",
   "execution_count": 49,
   "metadata": {
    "collapsed": true
   },
   "outputs": [],
   "source": [
    "emphasis_pattern = re.compile(r'''\n",
    "    \\*        # 起始突出标志——一个星号\n",
    "    (         # 与要突出的内容匹配的编组的起始位置\n",
    "    [^\\*]+    # 与除星号外的其他字符都匹配\n",
    "    )         # 编组到此结束\n",
    "    \\*        # 结束突出标志\n",
    "    ''', re.VERBOSE)"
   ]
  },
  {
   "cell_type": "code",
   "execution_count": 50,
   "metadata": {},
   "outputs": [
    {
     "data": {
      "text/plain": [
       "'<em>This</em> is <em>it</em>.'"
      ]
     },
     "execution_count": 50,
     "metadata": {},
     "output_type": "execute_result"
    }
   ],
   "source": [
    "text1 = '*This* is *it*.'\n",
    "emphasis_pattern.sub(r'<em>\\1</em>', text1)"
   ]
  },
  {
   "cell_type": "markdown",
   "metadata": {},
   "source": [
    "#### 例子：查找发件人"
   ]
  },
  {
   "cell_type": "code",
   "execution_count": 57,
   "metadata": {
    "collapsed": true
   },
   "outputs": [],
   "source": [
    "email = '''From foo@bar.baz Thu Dec 20 01:22:50 2008\n",
    "Return-Path: <foo@bar.baz>\n",
    "Received: from xyzzy42.bar.com (xyzzy.bar.baz [123.456.789.42])\n",
    "by frozz.bozz.floop (8.9.3/8.9.3) with ESMTP id BAA25436\n",
    "for <magnus@bozz.floop>; Thu, 20 Dec 2004 01:22:50 +0100 (MET)\n",
    "Received: from [43.253.124.23] by bar.baz\n",
    "(InterMail vM.4.01.03.27 201-229-121-127-20010626) with ESMTP\n",
    "id <20041220002242.ADASD123.bar.baz@[43.253.124.23]>; Thu, 20 Dec 2004 00:22:42 +0000\n",
    "User-Agent: Microsoft-Outlook-Express-Macintosh-Edition/5.02.2022\n",
    "Date: Wed, 19 Dec 2008 17:22:42 -0700\n",
    "Subject: Re: Spam\n",
    "From: Foo Fie <foo@bar.baz>\n",
    "To: Magnus Lie Hetland <magnus@bozz.floop>\n",
    "CC: <Mr.Gumby@bar.baz>\n",
    "Message-ID: <B8467D62.84F foo@baz.com> %\n",
    "In-Reply-To: <20041219013308.A2655@bozz.floop> Mime- version: 1.0\n",
    "Content-type: text/plain; charset=\"US-ASCII\" Content-transfer-encoding: 7bit\n",
    "Status: RO\n",
    "Content-Length: 55\n",
    "Lines: 6\n",
    "So long, and thanks for all the spam!\n",
    "Yours,\n",
    "Foo Fie'''"
   ]
  },
  {
   "cell_type": "code",
   "execution_count": 61,
   "metadata": {
    "collapsed": true
   },
   "outputs": [],
   "source": [
    "pat = re.compile('From: (.+) <.+?>')\n",
    "e = pat.search(email)"
   ]
  },
  {
   "cell_type": "code",
   "execution_count": 63,
   "metadata": {},
   "outputs": [
    {
     "data": {
      "text/plain": [
       "'Foo Fie'"
      ]
     },
     "execution_count": 63,
     "metadata": {},
     "output_type": "execute_result"
    }
   ],
   "source": [
    "e.group(1)"
   ]
  },
  {
   "cell_type": "markdown",
   "metadata": {},
   "source": [
    "#### 例子：找出所有邮箱"
   ]
  },
  {
   "cell_type": "code",
   "execution_count": 65,
   "metadata": {},
   "outputs": [
    {
     "data": {
      "text/plain": [
       "{'20041219013308.A2655@bozz.floop',\n",
       " 'Mr.Gumby@bar.baz',\n",
       " 'foo@bar.baz',\n",
       " 'foo@baz.com',\n",
       " 'magnus@bozz.floop'}"
      ]
     },
     "execution_count": 65,
     "metadata": {},
     "output_type": "execute_result"
    }
   ],
   "source": [
    "pat = re.compile('[a-zA-Z0-9\\-\\.]+@[a-zA-Z0-9\\-\\.]+')\n",
    "e = pat.findall(email)\n",
    "set(e)"
   ]
  }
 ],
 "metadata": {
  "kernelspec": {
   "display_name": "Python 3",
   "language": "python",
   "name": "python3"
  },
  "language_info": {
   "codemirror_mode": {
    "name": "ipython",
    "version": 3
   },
   "file_extension": ".py",
   "mimetype": "text/x-python",
   "name": "python",
   "nbconvert_exporter": "python",
   "pygments_lexer": "ipython3",
   "version": "3.6.4"
  },
  "toc": {
   "base_numbering": 1,
   "nav_menu": {
    "height": "304px",
    "width": "160px"
   },
   "number_sections": true,
   "sideBar": true,
   "skip_h1_title": false,
   "title_cell": "Table of Contents",
   "title_sidebar": "Contents",
   "toc_cell": false,
   "toc_position": {
    "height": "calc(100% - 180px)",
    "left": "10px",
    "top": "150px",
    "width": "256px"
   },
   "toc_section_display": true,
   "toc_window_display": true
  }
 },
 "nbformat": 4,
 "nbformat_minor": 2
}
