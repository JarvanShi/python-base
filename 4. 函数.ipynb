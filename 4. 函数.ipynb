{
 "cells": [
  {
   "cell_type": "markdown",
   "metadata": {},
   "source": [
    "## 写在前面"
   ]
  },
  {
   "cell_type": "markdown",
   "metadata": {},
   "source": [
    "- global\n",
    "- local\n",
    "- nonlocal\n",
    "- map\n",
    "- filter\n",
    "- pass\n",
    "- del\n",
    "- eval\n",
    "- exec"
   ]
  },
  {
   "cell_type": "markdown",
   "metadata": {},
   "source": [
    "## fabonacci sequence"
   ]
  },
  {
   "cell_type": "code",
   "execution_count": 1,
   "metadata": {
    "collapsed": true
   },
   "outputs": [],
   "source": [
    "import time"
   ]
  },
  {
   "cell_type": "code",
   "execution_count": 16,
   "metadata": {
    "collapsed": true
   },
   "outputs": [],
   "source": [
    "def fabs(n):\n",
    "    fabo = [0, 1]\n",
    "    if n < 3:\n",
    "        print(\"第{}个数是{}\".format(n, fabo[n-1]))\n",
    "    else:\n",
    "        for i in range(n-2):\n",
    "            fabo.append(fabo[-1] + fabo[-2])\n",
    "        print(\"第{}个数是{}\".format(n, fabo[n-1]))\n",
    "    print(fabo)"
   ]
  },
  {
   "cell_type": "code",
   "execution_count": 17,
   "metadata": {},
   "outputs": [
    {
     "name": "stdout",
     "output_type": "stream",
     "text": [
      "第10个数是34\n",
      "[0, 1, 1, 2, 3, 5, 8, 13, 21, 34]\n"
     ]
    },
    {
     "data": {
      "text/plain": [
       "0.0002899823556390402"
      ]
     },
     "execution_count": 17,
     "metadata": {},
     "output_type": "execute_result"
    }
   ],
   "source": [
    "start = time.perf_counter()\n",
    "fabs(10)\n",
    "time.perf_counter() - start"
   ]
  },
  {
   "cell_type": "markdown",
   "metadata": {},
   "source": [
    "## 数据结构小练习"
   ]
  },
  {
   "cell_type": "code",
   "execution_count": 8,
   "metadata": {
    "collapsed": true
   },
   "outputs": [],
   "source": [
    "storage = {}\n",
    "storage['first'] = {}\n",
    "storage['middle'] = {}\n",
    "storage['last'] = {}"
   ]
  },
  {
   "cell_type": "code",
   "execution_count": 2,
   "metadata": {
    "collapsed": true
   },
   "outputs": [],
   "source": [
    "me = 'Magnus Lie Hetland'\n",
    "storage['first'] ['Magnus'] = [me]\n",
    "storage['middle']['Lie'] = [me]\n",
    "storage['last']['Hetland'] = [me]"
   ]
  },
  {
   "cell_type": "code",
   "execution_count": 3,
   "metadata": {},
   "outputs": [
    {
     "data": {
      "text/plain": [
       "{'first': {'Magnus': ['Magnus Lie Hetland']},\n",
       " 'last': {'Hetland': ['Magnus Lie Hetland']},\n",
       " 'middle': {'Lie': ['Magnus Lie Hetland']}}"
      ]
     },
     "execution_count": 3,
     "metadata": {},
     "output_type": "execute_result"
    }
   ],
   "source": [
    "storage"
   ]
  },
  {
   "cell_type": "code",
   "execution_count": 4,
   "metadata": {
    "collapsed": true
   },
   "outputs": [],
   "source": [
    "my_sister = 'Anne Lie Hetland'\n",
    "storage['first'].setdefault('Anne', []).append(my_sister)\n",
    "storage['middle'].setdefault('Lie', []).append(my_sister)\n",
    "storage['last'].setdefault('Hetland', []).append(my_sister)"
   ]
  },
  {
   "cell_type": "code",
   "execution_count": 5,
   "metadata": {},
   "outputs": [
    {
     "data": {
      "text/plain": [
       "{'first': {'Anne': ['Anne Lie Hetland'], 'Magnus': ['Magnus Lie Hetland']},\n",
       " 'last': {'Hetland': ['Magnus Lie Hetland', 'Anne Lie Hetland']},\n",
       " 'middle': {'Lie': ['Magnus Lie Hetland', 'Anne Lie Hetland']}}"
      ]
     },
     "execution_count": 5,
     "metadata": {},
     "output_type": "execute_result"
    }
   ],
   "source": [
    "storage"
   ]
  },
  {
   "cell_type": "code",
   "execution_count": 7,
   "metadata": {},
   "outputs": [
    {
     "data": {
      "text/plain": [
       "['Magnus Lie Hetland']"
      ]
     },
     "execution_count": 7,
     "metadata": {},
     "output_type": "execute_result"
    }
   ],
   "source": [
    "storage['first']['Magnus']"
   ]
  },
  {
   "cell_type": "markdown",
   "metadata": {},
   "source": [
    "## 使用函数"
   ]
  },
  {
   "cell_type": "code",
   "execution_count": 49,
   "metadata": {
    "collapsed": true
   },
   "outputs": [],
   "source": [
    "def init(MyNames):\n",
    "    MyNames['first'] = {}\n",
    "    MyNames['middle'] = {}\n",
    "    MyNames['last'] = {}"
   ]
  },
  {
   "cell_type": "code",
   "execution_count": 50,
   "metadata": {
    "collapsed": true
   },
   "outputs": [],
   "source": [
    "def lookup(data, label, name):\n",
    "    'label: first, middle, last'\n",
    "    return data[label].get(name, ['not exist'])"
   ]
  },
  {
   "cell_type": "code",
   "execution_count": 53,
   "metadata": {
    "collapsed": true
   },
   "outputs": [],
   "source": [
    "def storage(data, full_name):\n",
    "    names = full_name.split()\n",
    "    if len(names) == 2:\n",
    "        names.insert(1, '')\n",
    "    labels = 'first', 'middle', 'last'\n",
    "    \n",
    "    for label, name in zip(labels, names):\n",
    "        people = lookup(data, label, name)\n",
    "        if people != ['not exist']:\n",
    "            people.append(full_name)\n",
    "        else:\n",
    "            data[label][name] = [full_name]"
   ]
  },
  {
   "cell_type": "code",
   "execution_count": 54,
   "metadata": {},
   "outputs": [
    {
     "data": {
      "text/plain": [
       "['Magnus Lie Hetland']"
      ]
     },
     "execution_count": 54,
     "metadata": {},
     "output_type": "execute_result"
    }
   ],
   "source": [
    "MyNames = {}\n",
    "init(MyNames)\n",
    "storage(MyNames, 'Magnus Lie Hetland')\n",
    "lookup(MyNames, 'middle', 'Lie')"
   ]
  },
  {
   "cell_type": "code",
   "execution_count": 55,
   "metadata": {},
   "outputs": [
    {
     "data": {
      "text/plain": [
       "['Robin Hood', 'Robin Locksley']"
      ]
     },
     "execution_count": 55,
     "metadata": {},
     "output_type": "execute_result"
    }
   ],
   "source": [
    "storage(MyNames, 'Robin Hood')\n",
    "storage(MyNames, 'Robin Locksley')\n",
    "lookup(MyNames, 'first', 'Robin')"
   ]
  },
  {
   "cell_type": "code",
   "execution_count": 57,
   "metadata": {},
   "outputs": [
    {
     "data": {
      "text/plain": [
       "['Robin Hood', 'Robin Locksley', 'Mr. Gumby']"
      ]
     },
     "execution_count": 57,
     "metadata": {},
     "output_type": "execute_result"
    }
   ],
   "source": [
    "storage(MyNames, 'Mr. Gumby')\n",
    "lookup(MyNames, 'middle', '')"
   ]
  },
  {
   "cell_type": "markdown",
   "metadata": {},
   "source": [
    "## 形参和实参  \n",
    "1. 什么时候函数内部的形参可以改变实参？  \n",
    "答：当实参是可变类型  \n",
    "2. 当实参是可变类型时，如何保护实参不变？  \n",
    "答：在函数内部使用切片赋值，或者深复制  \n",
    "3. 当实参是不可变类型，但又确实要通过函数改变实参？  \n",
    "答：通过返回值的方式，对实参重新赋值；或将实参转换为可变类型"
   ]
  },
  {
   "cell_type": "markdown",
   "metadata": {},
   "source": [
    "## 关键字参数和位置参数  \n",
    "1. 最好不要同时使用  \n",
    "2. 可以在定义参数时，指定默认值  \n",
    "3. 关键字参数更安全"
   ]
  },
  {
   "cell_type": "markdown",
   "metadata": {},
   "source": [
    "## 收集参数：不定长参数  \n",
    "1. 在定义函数时使用\n",
    "2. *收集位置参数，元组类型  \n",
    "3. **收集关键字参数，字典类型"
   ]
  },
  {
   "cell_type": "code",
   "execution_count": 60,
   "metadata": {
    "collapsed": true
   },
   "outputs": [],
   "source": [
    "def param(x, y, *posipara, **keypara):\n",
    "    print(x, y)\n",
    "    print(posipara)\n",
    "    print(keypara)"
   ]
  },
  {
   "cell_type": "code",
   "execution_count": 61,
   "metadata": {},
   "outputs": [
    {
     "name": "stdout",
     "output_type": "stream",
     "text": [
      "1 2\n",
      "(3, 4, 5)\n",
      "{'name': 'Anne', 'age': 18}\n"
     ]
    }
   ],
   "source": [
    "param(1, 2, 3, 4, 5, name='Anne', age=18)"
   ]
  },
  {
   "cell_type": "code",
   "execution_count": 62,
   "metadata": {},
   "outputs": [
    {
     "ename": "TypeError",
     "evalue": "param() missing 1 required positional argument: 'y'",
     "output_type": "error",
     "traceback": [
      "\u001b[1;31m---------------------------------------------------------------------------\u001b[0m",
      "\u001b[1;31mTypeError\u001b[0m                                 Traceback (most recent call last)",
      "\u001b[1;32m<ipython-input-62-9678a05132e9>\u001b[0m in \u001b[0;36m<module>\u001b[1;34m()\u001b[0m\n\u001b[1;32m----> 1\u001b[1;33m \u001b[0mparam\u001b[0m\u001b[1;33m(\u001b[0m\u001b[1;36m1\u001b[0m\u001b[1;33m)\u001b[0m\u001b[1;33m\u001b[0m\u001b[0m\n\u001b[0m",
      "\u001b[1;31mTypeError\u001b[0m: param() missing 1 required positional argument: 'y'"
     ]
    }
   ],
   "source": [
    "param(1)"
   ]
  },
  {
   "cell_type": "code",
   "execution_count": 63,
   "metadata": {},
   "outputs": [
    {
     "name": "stdout",
     "output_type": "stream",
     "text": [
      "1 2\n",
      "()\n",
      "{}\n"
     ]
    }
   ],
   "source": [
    "param(1, 2)"
   ]
  },
  {
   "cell_type": "markdown",
   "metadata": {},
   "source": [
    "## 练习v2  \n",
    "使用不定长参数一次调用存储多个姓名"
   ]
  },
  {
   "cell_type": "code",
   "execution_count": 64,
   "metadata": {
    "collapsed": true
   },
   "outputs": [],
   "source": [
    "def storeV2(data, *full_names):\n",
    "    for full_name in full_names:\n",
    "        names = full_name.split()\n",
    "        if len(names) == 2:\n",
    "            names.insert(1, '')\n",
    "        labels = 'first', 'middle', 'last'\n",
    "        for label, name in zip(labels, names):\n",
    "            people = lookup(data, label, name)\n",
    "            if people != ['not exist']:\n",
    "                people.append(full_name)\n",
    "            else:\n",
    "                data[label][name] = [full_name]"
   ]
  },
  {
   "cell_type": "code",
   "execution_count": 66,
   "metadata": {},
   "outputs": [
    {
     "data": {
      "text/plain": [
       "['Luke Skywalker', 'Anakin Skywalker']"
      ]
     },
     "execution_count": 66,
     "metadata": {},
     "output_type": "execute_result"
    }
   ],
   "source": [
    "storeV2(MyNames, 'Han Solo', 'Luke Skywalker', 'Anakin Skywalker')\n",
    "lookup(MyNames, 'last', 'Skywalker')"
   ]
  },
  {
   "cell_type": "markdown",
   "metadata": {},
   "source": [
    "## 分配参数：不定长参数  \n",
    "1. 在调用函数时使用  \n",
    "2. *分配位置参数，元组类型  \n",
    "3. **分配关键字参数，字典类型  \n",
    "4. 收集参数和分配参数若同时使用意义不大"
   ]
  },
  {
   "cell_type": "code",
   "execution_count": 67,
   "metadata": {
    "collapsed": true
   },
   "outputs": [],
   "source": [
    "def opera(x, y, o='add'):\n",
    "    if o == 'add':\n",
    "        return x + y\n",
    "    elif o == 'minus':\n",
    "        return x - y\n",
    "    elif o == 'multiply':\n",
    "        return x * y\n",
    "    elif o == 'divide':\n",
    "        return x / y"
   ]
  },
  {
   "cell_type": "code",
   "execution_count": 76,
   "metadata": {
    "collapsed": true
   },
   "outputs": [],
   "source": [
    "params = (1, 2)\n",
    "o = {'o':'multiply'}"
   ]
  },
  {
   "cell_type": "code",
   "execution_count": 77,
   "metadata": {},
   "outputs": [
    {
     "data": {
      "text/plain": [
       "3"
      ]
     },
     "execution_count": 77,
     "metadata": {},
     "output_type": "execute_result"
    }
   ],
   "source": [
    "opera(*params)"
   ]
  },
  {
   "cell_type": "code",
   "execution_count": 78,
   "metadata": {},
   "outputs": [
    {
     "data": {
      "text/plain": [
       "2"
      ]
     },
     "execution_count": 78,
     "metadata": {},
     "output_type": "execute_result"
    }
   ],
   "source": [
    "opera(*params, **o)"
   ]
  },
  {
   "cell_type": "markdown",
   "metadata": {},
   "source": [
    "## 参数综合练习"
   ]
  },
  {
   "cell_type": "code",
   "execution_count": 79,
   "metadata": {
    "collapsed": true
   },
   "outputs": [],
   "source": [
    "def story(**kwds):\n",
    "    return 'Once upon a time, there was a '\\\n",
    "            '{job} called {name}'.format_map(kwds)\n",
    "def power(x, y, *others):\n",
    "    if others:\n",
    "        print('Received redundant parameters:', others)\n",
    "    return pow(x, y)\n",
    "def interval(start, stop=None, step=1):\n",
    "    'Imitates range() fro step > 0'\n",
    "    if stop is None:\n",
    "        start, stop = 0, start\n",
    "    result = []\n",
    "    \n",
    "    i = start\n",
    "    while i < stop:\n",
    "        result.append(i)\n",
    "        i += step\n",
    "    return result"
   ]
  },
  {
   "cell_type": "code",
   "execution_count": 80,
   "metadata": {},
   "outputs": [
    {
     "data": {
      "text/plain": [
       "'Once upon a time, there was a King called Gumby'"
      ]
     },
     "execution_count": 80,
     "metadata": {},
     "output_type": "execute_result"
    }
   ],
   "source": [
    "story(job='King', name='Gumby')"
   ]
  },
  {
   "cell_type": "code",
   "execution_count": 84,
   "metadata": {},
   "outputs": [
    {
     "data": {
      "text/plain": [
       "'Once upon a time, there was a language called python'"
      ]
     },
     "execution_count": 84,
     "metadata": {},
     "output_type": "execute_result"
    }
   ],
   "source": [
    "params = {'job':'language', 'name':'python'}\n",
    "story(**params)"
   ]
  },
  {
   "cell_type": "code",
   "execution_count": 85,
   "metadata": {},
   "outputs": [
    {
     "data": {
      "text/plain": [
       "'Once upon a time, there was a stroke of genius called python'"
      ]
     },
     "execution_count": 85,
     "metadata": {},
     "output_type": "execute_result"
    }
   ],
   "source": [
    "del params['job']\n",
    "story(job='stroke of genius', **params)"
   ]
  },
  {
   "cell_type": "code",
   "execution_count": 86,
   "metadata": {},
   "outputs": [
    {
     "data": {
      "text/plain": [
       "8"
      ]
     },
     "execution_count": 86,
     "metadata": {},
     "output_type": "execute_result"
    }
   ],
   "source": [
    "power(2, 3)"
   ]
  },
  {
   "cell_type": "code",
   "execution_count": 87,
   "metadata": {},
   "outputs": [
    {
     "name": "stdout",
     "output_type": "stream",
     "text": [
      "Received redundant parameters: (4,)\n"
     ]
    },
    {
     "data": {
      "text/plain": [
       "8"
      ]
     },
     "execution_count": 87,
     "metadata": {},
     "output_type": "execute_result"
    }
   ],
   "source": [
    "power(2, 3, 4)"
   ]
  },
  {
   "cell_type": "code",
   "execution_count": 88,
   "metadata": {},
   "outputs": [
    {
     "data": {
      "text/plain": [
       "[0, 1, 2, 3, 4, 5, 6, 7, 8, 9]"
      ]
     },
     "execution_count": 88,
     "metadata": {},
     "output_type": "execute_result"
    }
   ],
   "source": [
    "interval(10)"
   ]
  },
  {
   "cell_type": "code",
   "execution_count": 90,
   "metadata": {},
   "outputs": [
    {
     "data": {
      "text/plain": [
       "[1, 4, 7]"
      ]
     },
     "execution_count": 90,
     "metadata": {},
     "output_type": "execute_result"
    }
   ],
   "source": [
    "interval(1, 10, 3)"
   ]
  },
  {
   "cell_type": "code",
   "execution_count": 91,
   "metadata": {},
   "outputs": [
    {
     "name": "stdout",
     "output_type": "stream",
     "text": [
      "Received redundant parameters: (5, 6)\n"
     ]
    },
    {
     "data": {
      "text/plain": [
       "81"
      ]
     },
     "execution_count": 91,
     "metadata": {},
     "output_type": "execute_result"
    }
   ],
   "source": [
    "power(*interval(3, 7))"
   ]
  },
  {
   "cell_type": "markdown",
   "metadata": {},
   "source": [
    "## 作用域  \n",
    "也称命名空间  \n",
    "1. 若全局变量和局部变量名称相同，在函数内部调用全局变量时会被局部变量覆盖\n",
    "2. 可以使用globals访问全局变量\n",
    "3. 可以使用global将变量名的值重新指向全局变量，这样对该变量的操作会改变值\n",
    "3. 可以使用locals返回包含局部变量的字典"
   ]
  },
  {
   "cell_type": "code",
   "execution_count": 105,
   "metadata": {},
   "outputs": [
    {
     "data": {
      "text/plain": [
       "1"
      ]
     },
     "execution_count": 105,
     "metadata": {},
     "output_type": "execute_result"
    }
   ],
   "source": [
    "x = 1\n",
    "vars()['x']  # 返回不可见的字典"
   ]
  },
  {
   "cell_type": "code",
   "execution_count": 113,
   "metadata": {},
   "outputs": [
    {
     "name": "stdout",
     "output_type": "stream",
     "text": [
      "Shrubberry\n"
     ]
    }
   ],
   "source": [
    "def combine(parameter):\n",
    "    print(parameter + globals()['parameter'])\n",
    "\n",
    "parameter = 'berry'\n",
    "combine('Shrub')"
   ]
  },
  {
   "cell_type": "code",
   "execution_count": 129,
   "metadata": {
    "collapsed": true
   },
   "outputs": [],
   "source": [
    "parameter = 'python'\n",
    "def combine(string):\n",
    "    global parameter\n",
    "    print(globals()['parameter'] + string)\n",
    "    parameter += string"
   ]
  },
  {
   "cell_type": "code",
   "execution_count": 130,
   "metadata": {},
   "outputs": [
    {
     "name": "stdout",
     "output_type": "stream",
     "text": [
      "pythonhello\n"
     ]
    }
   ],
   "source": [
    "combine('hello')"
   ]
  },
  {
   "cell_type": "code",
   "execution_count": 131,
   "metadata": {},
   "outputs": [
    {
     "data": {
      "text/plain": [
       "'pythonhello'"
      ]
     },
     "execution_count": 131,
     "metadata": {},
     "output_type": "execute_result"
    }
   ],
   "source": [
    "parameter  # global的效果，函数改变了不可变类型字符串的值"
   ]
  },
  {
   "cell_type": "code",
   "execution_count": 132,
   "metadata": {
    "collapsed": true
   },
   "outputs": [],
   "source": [
    "parameter = 'python'\n",
    "def combinev2(string):\n",
    "    parameter = 'hello'\n",
    "    parameter += string\n",
    "    print(parameter)"
   ]
  },
  {
   "cell_type": "code",
   "execution_count": 133,
   "metadata": {},
   "outputs": [
    {
     "name": "stdout",
     "output_type": "stream",
     "text": [
      "hellopython\n"
     ]
    }
   ],
   "source": [
    "combinev2('python')"
   ]
  },
  {
   "cell_type": "code",
   "execution_count": 134,
   "metadata": {},
   "outputs": [
    {
     "data": {
      "text/plain": [
       "'python'"
      ]
     },
     "execution_count": 134,
     "metadata": {},
     "output_type": "execute_result"
    }
   ],
   "source": [
    "parameter  # 函数没有改变字符串类型的值"
   ]
  },
  {
   "cell_type": "markdown",
   "metadata": {},
   "source": [
    "## 闭包  \n",
    "1. 两个函数的嵌套  \n",
    "1. 内部函数可以调用外部函数的变量和参数，反之不行\n",
    "2. 如果要给外部局部作用域内的变量赋值，使用nonlocal关键字"
   ]
  },
  {
   "cell_type": "code",
   "execution_count": 147,
   "metadata": {
    "collapsed": true
   },
   "outputs": [],
   "source": [
    "def multiplier(factor):\n",
    "    def multiplyByFactor(number):\n",
    "        return number * factor\n",
    "    return multiplyByFactor"
   ]
  },
  {
   "cell_type": "code",
   "execution_count": 148,
   "metadata": {},
   "outputs": [
    {
     "data": {
      "text/plain": [
       "10"
      ]
     },
     "execution_count": 148,
     "metadata": {},
     "output_type": "execute_result"
    }
   ],
   "source": [
    "double = multiplier(2)\n",
    "double(5)"
   ]
  },
  {
   "cell_type": "code",
   "execution_count": 149,
   "metadata": {},
   "outputs": [
    {
     "data": {
      "text/plain": [
       "15"
      ]
     },
     "execution_count": 149,
     "metadata": {},
     "output_type": "execute_result"
    }
   ],
   "source": [
    "triple = multiplier(3)\n",
    "triple(5)"
   ]
  },
  {
   "cell_type": "code",
   "execution_count": 171,
   "metadata": {
    "collapsed": true
   },
   "outputs": [],
   "source": [
    "def multiplier(factor):\n",
    "    n = 2\n",
    "    def multiplyByFactor(number):\n",
    "        nonlocal n\n",
    "        n += 2\n",
    "        print('inner',n)\n",
    "        return number * factor * n\n",
    "    print('outer', n)\n",
    "    return multiplyByFactor"
   ]
  },
  {
   "cell_type": "code",
   "execution_count": 172,
   "metadata": {},
   "outputs": [
    {
     "name": "stdout",
     "output_type": "stream",
     "text": [
      "outer 2\n",
      "inner 4\n"
     ]
    },
    {
     "data": {
      "text/plain": [
       "60"
      ]
     },
     "execution_count": 172,
     "metadata": {},
     "output_type": "execute_result"
    }
   ],
   "source": [
    "t = multiplier(3)\n",
    "t(5)"
   ]
  },
  {
   "cell_type": "markdown",
   "metadata": {},
   "source": [
    "## 递归  \n",
    "构成：\n",
    "    1. 基线条件：满足条件时，返回一个值\n",
    "    2. 递归条件：包含一个或多个调用\n",
    "思想：通过递归条件和基线条件，将复杂的问题分解为一个个简单的问题  \n",
    "优点：可读性强，实现容易  \n",
    "缺点：没有迭代的效率高，难理解"
   ]
  },
  {
   "cell_type": "code",
   "execution_count": null,
   "metadata": {
    "collapsed": true
   },
   "outputs": [],
   "source": [
    "def recursion():\n",
    "    return recursion()"
   ]
  },
  {
   "cell_type": "markdown",
   "metadata": {},
   "source": [
    "## 阶乘"
   ]
  },
  {
   "cell_type": "code",
   "execution_count": 10,
   "metadata": {
    "collapsed": true
   },
   "outputs": [],
   "source": [
    "def factorialIte(n):\n",
    "    result = n\n",
    "    for i in range(1, n):\n",
    "        result *= i\n",
    "    return result"
   ]
  },
  {
   "cell_type": "code",
   "execution_count": 11,
   "metadata": {},
   "outputs": [
    {
     "data": {
      "text/plain": [
       "120"
      ]
     },
     "execution_count": 11,
     "metadata": {},
     "output_type": "execute_result"
    }
   ],
   "source": [
    "factorialIte(5)"
   ]
  },
  {
   "cell_type": "code",
   "execution_count": 12,
   "metadata": {
    "collapsed": true
   },
   "outputs": [],
   "source": [
    "def factorialRec(n):\n",
    "    if n == 1:\n",
    "        return n\n",
    "    else:\n",
    "        return n * factorial(n-1)"
   ]
  },
  {
   "cell_type": "code",
   "execution_count": 16,
   "metadata": {},
   "outputs": [
    {
     "data": {
      "text/plain": [
       "120"
      ]
     },
     "execution_count": 16,
     "metadata": {},
     "output_type": "execute_result"
    }
   ],
   "source": [
    "factorialRec(5)"
   ]
  },
  {
   "cell_type": "markdown",
   "metadata": {},
   "source": [
    "## 幂"
   ]
  },
  {
   "cell_type": "code",
   "execution_count": 25,
   "metadata": {
    "collapsed": true
   },
   "outputs": [],
   "source": [
    "def powerIte(x, n):\n",
    "    result = 1\n",
    "    for i in range(n):\n",
    "        result *= x\n",
    "    return result"
   ]
  },
  {
   "cell_type": "code",
   "execution_count": 30,
   "metadata": {
    "scrolled": true
   },
   "outputs": [
    {
     "data": {
      "text/plain": [
       "32"
      ]
     },
     "execution_count": 30,
     "metadata": {},
     "output_type": "execute_result"
    }
   ],
   "source": [
    "powerIte(2, 5)"
   ]
  },
  {
   "cell_type": "code",
   "execution_count": 31,
   "metadata": {
    "collapsed": true
   },
   "outputs": [],
   "source": [
    "def powerRec(x, n):\n",
    "    if n == 0:\n",
    "        return 1\n",
    "    else:\n",
    "        return x * power(x, n-1)"
   ]
  },
  {
   "cell_type": "code",
   "execution_count": 32,
   "metadata": {},
   "outputs": [
    {
     "data": {
      "text/plain": [
       "32"
      ]
     },
     "execution_count": 32,
     "metadata": {},
     "output_type": "execute_result"
    }
   ],
   "source": [
    "powerRec(2, 5)"
   ]
  },
  {
   "cell_type": "markdown",
   "metadata": {},
   "source": [
    "## 斐波那契"
   ]
  },
  {
   "cell_type": "code",
   "execution_count": 1,
   "metadata": {
    "collapsed": true
   },
   "outputs": [],
   "source": [
    "def fabonacciRec(n):\n",
    "    fabo = [0, 1]\n",
    "    if n < 3:\n",
    "        return fabo[n-1]\n",
    "    else:\n",
    "        return fabonacciRec(n-1) + fabonacciRec(n-2)"
   ]
  },
  {
   "cell_type": "code",
   "execution_count": 3,
   "metadata": {},
   "outputs": [
    {
     "data": {
      "text/plain": [
       "63245986"
      ]
     },
     "execution_count": 3,
     "metadata": {},
     "output_type": "execute_result"
    }
   ],
   "source": [
    "fabonacciRec(40)"
   ]
  },
  {
   "cell_type": "code",
   "execution_count": null,
   "metadata": {
    "collapsed": true
   },
   "outputs": [],
   "source": [
    "def fabonacciIte(n):\n",
    "    fabo = [0, 1]\n",
    "    if n < 3:\n",
    "        return fabo[n-1]\n",
    "    else:\n",
    "        for i in range(n-2):\n",
    "            fabo.append(fabo[-1] + fabo[-2])\n",
    "        return fabo[-1]"
   ]
  },
  {
   "cell_type": "markdown",
   "metadata": {},
   "source": [
    "## 二分法  \n",
    "前提需要先将元素排好序"
   ]
  },
  {
   "cell_type": "code",
   "execution_count": null,
   "metadata": {
    "collapsed": true
   },
   "outputs": [],
   "source": [
    "def search(sequence, loc):\n",
    "    "
   ]
  },
  {
   "cell_type": "markdown",
   "metadata": {},
   "source": [
    "## 函数式编程"
   ]
  },
  {
   "cell_type": "code",
   "execution_count": 10,
   "metadata": {
    "scrolled": true
   },
   "outputs": [
    {
     "data": {
      "text/plain": [
       "['0', '1', '2', '3', '4', '5', '6', '7', '8', '9']"
      ]
     },
     "execution_count": 10,
     "metadata": {},
     "output_type": "execute_result"
    }
   ],
   "source": [
    "list(map(str, range(10)))"
   ]
  },
  {
   "cell_type": "code",
   "execution_count": 24,
   "metadata": {},
   "outputs": [
    {
     "data": {
      "text/plain": [
       "[0, 1, 4, 9, 16, 25, 36, 49, 64, 81]"
      ]
     },
     "execution_count": 24,
     "metadata": {},
     "output_type": "execute_result"
    }
   ],
   "source": [
    "list(map(lambda x: pow(x, 2), range(10)))"
   ]
  },
  {
   "cell_type": "code",
   "execution_count": 25,
   "metadata": {},
   "outputs": [
    {
     "data": {
      "text/plain": [
       "[0, 1, 2, 3, 4, 5, 6, 7, 8, 9]"
      ]
     },
     "execution_count": 25,
     "metadata": {},
     "output_type": "execute_result"
    }
   ],
   "source": [
    "list(filter(str, range(10)))"
   ]
  },
  {
   "cell_type": "code",
   "execution_count": null,
   "metadata": {
    "collapsed": true
   },
   "outputs": [],
   "source": [
    "assert pass else del exec eval zip map filter lambda"
   ]
  }
 ],
 "metadata": {
  "kernelspec": {
   "display_name": "Python 3",
   "language": "python",
   "name": "python3"
  },
  "language_info": {
   "codemirror_mode": {
    "name": "ipython",
    "version": 3
   },
   "file_extension": ".py",
   "mimetype": "text/x-python",
   "name": "python",
   "nbconvert_exporter": "python",
   "pygments_lexer": "ipython3",
   "version": "3.6.4"
  },
  "toc": {
   "base_numbering": 1,
   "nav_menu": {},
   "number_sections": true,
   "sideBar": true,
   "skip_h1_title": false,
   "title_cell": "Table of Contents",
   "title_sidebar": "Contents",
   "toc_cell": false,
   "toc_position": {
    "height": "calc(100% - 180px)",
    "left": "10px",
    "top": "150px",
    "width": "284px"
   },
   "toc_section_display": true,
   "toc_window_display": true
  }
 },
 "nbformat": 4,
 "nbformat_minor": 2
}
