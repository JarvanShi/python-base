{
 "cells": [
  {
   "cell_type": "markdown",
   "metadata": {},
   "source": [
    "## print  \n",
    "1. py2中print是一个语句， py3中print是一个函数  \n",
    "2. py2中print也可以用py3中的写法"
   ]
  },
  {
   "cell_type": "markdown",
   "metadata": {
    "collapsed": true
   },
   "source": [
    "示例：\n",
    "1. py2中print接收的是元组\n",
    "<code>\n",
    "\\>\\>\\>print(\"hello\", \"world\")\n",
    "\\>\\>\\>('hello', 'world')\n",
    "</code>\n",
    "\n",
    "2. py3中print接收的是位置参数\n",
    "<code>\n",
    "\\>\\>\\>print(\"hello\", \"world\")\n",
    "\\>\\>\\>hello world\n",
    "</code>"
   ]
  },
  {
   "cell_type": "markdown",
   "metadata": {},
   "source": [
    "## True False\n",
    "1. py2中True和False可以是变量\n",
    "2. True和False都是关键字参数， 不能赋值"
   ]
  },
  {
   "cell_type": "markdown",
   "metadata": {
    "collapsed": true
   },
   "source": [
    "示例：\n",
    "- py2中True和False可以是变量\n",
    "<code>\n",
    "\\>\\>\\> True = 0\n",
    "\\>\\>\\> True\n",
    "\\>\\>\\>0\n",
    "</code>"
   ]
  },
  {
   "cell_type": "markdown",
   "metadata": {},
   "source": [
    "## 编码  \n",
    "1. py2中默认编码是ascii，如需更为utf-8, 脚本开头：# coding = utf-8, 有时候也会出现编码问题\n",
    "2. py3中默认编码是utf-8"
   ]
  },
  {
   "cell_type": "markdown",
   "metadata": {},
   "source": [
    "## 迭代器  \n",
    "1. py2中有些内置的函数和方法返回的值是列表\n",
    "2. py3中将这些函数和方法的返回值更改为迭代器，原因是迭代器的惰性加载特性"
   ]
  },
  {
   "cell_type": "markdown",
   "metadata": {},
   "source": [
    "## nonlocal\n",
    "1. py2的闭包中，内部函数无法使用外部函数的变量\n",
    "2. py3的闭包中，使用nonlocal关键字，可以声明变量为外部局部作用域的变量"
   ]
  },
  {
   "cell_type": "markdown",
   "metadata": {
    "collapsed": true
   },
   "source": [
    "- py2\n",
    "<code>\n",
    "def func():\n",
    "    c = 1\n",
    "    def fun():\n",
    "        c = 12\n",
    "    fun()\n",
    "    print(c)\n",
    "</code>\n",
    "---\n",
    "结果为1"
   ]
  },
  {
   "cell_type": "markdown",
   "metadata": {
    "collapsed": true
   },
   "source": [
    "- py3\n",
    "<code>\n",
    "def func():\n",
    "    c = 1\n",
    "    def fun():\n",
    "        nonlocal c\n",
    "        c = 12\n",
    "    fun()\n",
    "    print(c)\n",
    "</code>\n",
    "---\n",
    "结果为12"
   ]
  },
  {
   "cell_type": "markdown",
   "metadata": {},
   "source": [
    "## 新式类和旧式类  \n",
    "1. py2中创建类，默认是旧式类，除非显示继承object，或在类模块首行__metaclass__ = type\n",
    "2. py3中创建类，默认是新式类，不需要显示继承object\n",
    "3. 新式类的实例，可以通过type获取该实例的类名，旧式类的实例，type的返回值是：instance\n",
    "4. 多继承搜索顺序，新式类先广度后深度，旧式类先深度后广度"
   ]
  },
  {
   "cell_type": "markdown",
   "metadata": {},
   "source": [
    "### py2创建新式类"
   ]
  },
  {
   "cell_type": "markdown",
   "metadata": {
    "collapsed": true
   },
   "source": [
    "<code>\n",
    "class A(object):  # 新式类\n",
    "    pass\n",
    "\n",
    "class A:  # 新式类\n",
    "    \\_\\_metaclass__ = type\n",
    "</code>"
   ]
  },
  {
   "cell_type": "markdown",
   "metadata": {},
   "source": [
    "### type用法"
   ]
  },
  {
   "cell_type": "markdown",
   "metadata": {
    "collapsed": true
   },
   "source": [
    "1. py2\n",
    "<code>\n",
    "class A:\n",
    "    pass\n",
    "m = A()\n",
    "type(m)  # instance\n",
    "</code>\n",
    "\n",
    "2. py3\n",
    "<code>\n",
    "class A:\n",
    "    pass\n",
    "m = A()\n",
    "type(m)  # A\n",
    "</code>"
   ]
  },
  {
   "cell_type": "markdown",
   "metadata": {},
   "source": [
    "### 多继承搜索顺序"
   ]
  },
  {
   "cell_type": "markdown",
   "metadata": {},
   "source": [
    "#### 旧式类"
   ]
  },
  {
   "cell_type": "code",
   "execution_count": null,
   "metadata": {
    "collapsed": true
   },
   "outputs": [],
   "source": [
    "# py2\n",
    "class A:\n",
    "    def __init__(self):\n",
    "        pass\n",
    "    def save(self):\n",
    "        print(\"This is from A\")\n",
    "\n",
    "class B(A):\n",
    "    def __init__(self):\n",
    "        pass\n",
    "    def save(self):\n",
    "        print(\"This is from B\")\n",
    "\n",
    "class C(A):\n",
    "    def __init__(self):\n",
    "        pass\n",
    "    def save(self):\n",
    "        print(\"This is from C\")\n",
    "\n",
    "class D(B, C):\n",
    "    def __init__(self):\n",
    "        pass\n",
    "#     def save(self):\n",
    "#         print(\"This is from D\")"
   ]
  },
  {
   "cell_type": "code",
   "execution_count": null,
   "metadata": {
    "collapsed": true
   },
   "outputs": [],
   "source": [
    "d = D()\n",
    "d.save()  # This is from B"
   ]
  },
  {
   "cell_type": "code",
   "execution_count": null,
   "metadata": {
    "collapsed": true
   },
   "outputs": [],
   "source": [
    "# py2\n",
    "class A:\n",
    "    def __init__(self):\n",
    "        pass\n",
    "    def save(self):\n",
    "        print(\"This is from A\")\n",
    "\n",
    "class B(A):\n",
    "    def __init__(self):\n",
    "        pass\n",
    "#     def save(self):\n",
    "#         print(\"This is from B\")\n",
    "\n",
    "class C(A):\n",
    "    def __init__(self):\n",
    "        pass\n",
    "    def save(self):\n",
    "        print(\"This is from C\")\n",
    "\n",
    "class D(B, C):\n",
    "    def __init__(self):\n",
    "        pass\n",
    "#     def save(self):\n",
    "#         print(\"This is from D\")"
   ]
  },
  {
   "cell_type": "code",
   "execution_count": null,
   "metadata": {
    "collapsed": true
   },
   "outputs": [],
   "source": [
    "d = D()\n",
    "d.save()  # This is from A"
   ]
  },
  {
   "cell_type": "markdown",
   "metadata": {},
   "source": [
    "#### 新式类"
   ]
  },
  {
   "cell_type": "code",
   "execution_count": null,
   "metadata": {
    "collapsed": true
   },
   "outputs": [],
   "source": [
    "# py3\n",
    "class A:\n",
    "    def __init__(self):\n",
    "        pass\n",
    "    def save(self):\n",
    "        print(\"This is from A\")\n",
    "\n",
    "class B(A):\n",
    "    def __init__(self):\n",
    "        pass\n",
    "    def save(self):\n",
    "        print(\"This is from B\")\n",
    "\n",
    "class C(A):\n",
    "    def __init__(self):\n",
    "        pass\n",
    "    def save(self):\n",
    "        print(\"This is from C\")\n",
    "\n",
    "class D(B, C):\n",
    "    def __init__(self):\n",
    "        pass\n",
    "#     def save(self):\n",
    "#         print(\"This is from D\")"
   ]
  },
  {
   "cell_type": "code",
   "execution_count": null,
   "metadata": {
    "collapsed": true
   },
   "outputs": [],
   "source": [
    "d = D()\n",
    "d.save()  # This is from B"
   ]
  },
  {
   "cell_type": "code",
   "execution_count": null,
   "metadata": {
    "collapsed": true
   },
   "outputs": [],
   "source": [
    "# py3\n",
    "class A:\n",
    "    def __init__(self):\n",
    "        pass\n",
    "    def save(self):\n",
    "        print(\"This is from A\")\n",
    "\n",
    "class B(A):\n",
    "    def __init__(self):\n",
    "        pass\n",
    "#     def save(self):\n",
    "#         print(\"This is from B\")\n",
    "\n",
    "class C(A):\n",
    "    def __init__(self):\n",
    "        pass\n",
    "    def save(self):\n",
    "        print(\"This is from C\")\n",
    "\n",
    "class D(B, C):\n",
    "    def __init__(self):\n",
    "        pass\n",
    "#     def save(self):\n",
    "#         print(\"This is from D\")"
   ]
  },
  {
   "cell_type": "code",
   "execution_count": null,
   "metadata": {
    "collapsed": true
   },
   "outputs": [],
   "source": [
    "d = D()\n",
    "d.save()  # This is from C"
   ]
  },
  {
   "cell_type": "markdown",
   "metadata": {},
   "source": [
    "### super函数和特性"
   ]
  },
  {
   "cell_type": "markdown",
   "metadata": {},
   "source": [
    "- py2\n",
    "***\n",
    "<code>\n",
    "class Filter:\n",
    "    def \\_\\_init__(self):\n",
    "        self.block = []\n",
    "    def filt(self, sequence):\n",
    "        return [x for x in sequence if x in self.block]\n",
    "\n",
    "class courseFilter(Filter):\n",
    "    def \\_\\_init\\_\\_(self):\n",
    "        super().\\_\\_init__()  # py2在这里不能使用super函数\n",
    "        self.course = []\n",
    "</code>\n",
    "\n",
    "- py3\n",
    "***\n",
    "<code>\n",
    "class Filter:\n",
    "    def \\_\\_init__(self):\n",
    "        self.block = []\n",
    "    def filt(self, sequence):\n",
    "        return [x for x in sequence if x not in self.block]\n",
    "\n",
    "class CourseFilter(Filter):\n",
    "    def \\_\\_init\\_\\_(self):\n",
    "        super().\\_\\_init__()\n",
    "        self.course = []\n",
    "</code>"
   ]
  },
  {
   "cell_type": "code",
   "execution_count": null,
   "metadata": {
    "collapsed": true
   },
   "outputs": [],
   "source": []
  }
 ],
 "metadata": {
  "kernelspec": {
   "display_name": "Python 3",
   "language": "python",
   "name": "python3"
  },
  "language_info": {
   "codemirror_mode": {
    "name": "ipython",
    "version": 3
   },
   "file_extension": ".py",
   "mimetype": "text/x-python",
   "name": "python",
   "nbconvert_exporter": "python",
   "pygments_lexer": "ipython3",
   "version": "3.6.4"
  },
  "toc": {
   "base_numbering": 1,
   "nav_menu": {},
   "number_sections": true,
   "sideBar": true,
   "skip_h1_title": false,
   "title_cell": "Table of Contents",
   "title_sidebar": "Contents",
   "toc_cell": false,
   "toc_position": {},
   "toc_section_display": true,
   "toc_window_display": true
  }
 },
 "nbformat": 4,
 "nbformat_minor": 2
}
