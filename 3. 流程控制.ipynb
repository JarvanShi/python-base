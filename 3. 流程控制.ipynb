{
 "cells": [
  {
   "cell_type": "markdown",
   "metadata": {},
   "source": [
    "## 赋值"
   ]
  },
  {
   "cell_type": "markdown",
   "metadata": {},
   "source": [
    "### 序列解包"
   ]
  },
  {
   "cell_type": "code",
   "execution_count": 6,
   "metadata": {},
   "outputs": [],
   "source": [
    "a, *b, c = \"abc\""
   ]
  },
  {
   "cell_type": "code",
   "execution_count": 8,
   "metadata": {
    "scrolled": true
   },
   "outputs": [
    {
     "data": {
      "text/plain": [
       "list"
      ]
     },
     "execution_count": 8,
     "metadata": {},
     "output_type": "execute_result"
    }
   ],
   "source": [
    "type(b)"
   ]
  },
  {
   "cell_type": "markdown",
   "metadata": {},
   "source": [
    "### 链式赋值"
   ]
  },
  {
   "cell_type": "code",
   "execution_count": 33,
   "metadata": {},
   "outputs": [],
   "source": [
    "c = 5\n",
    "a = b = c"
   ]
  },
  {
   "cell_type": "code",
   "execution_count": 34,
   "metadata": {},
   "outputs": [
    {
     "data": {
      "text/plain": [
       "True"
      ]
     },
     "execution_count": 34,
     "metadata": {},
     "output_type": "execute_result"
    }
   ],
   "source": [
    "a is b"
   ]
  },
  {
   "cell_type": "code",
   "execution_count": 35,
   "metadata": {},
   "outputs": [
    {
     "data": {
      "text/plain": [
       "140725773061888"
      ]
     },
     "execution_count": 35,
     "metadata": {},
     "output_type": "execute_result"
    }
   ],
   "source": [
    "id(a)"
   ]
  },
  {
   "cell_type": "code",
   "execution_count": 36,
   "metadata": {},
   "outputs": [
    {
     "data": {
      "text/plain": [
       "5"
      ]
     },
     "execution_count": 36,
     "metadata": {},
     "output_type": "execute_result"
    }
   ],
   "source": [
    "a = 0\n",
    "b"
   ]
  },
  {
   "cell_type": "code",
   "execution_count": 19,
   "metadata": {},
   "outputs": [],
   "source": [
    "C = 5\n",
    "A = C\n",
    "B = C"
   ]
  },
  {
   "cell_type": "code",
   "execution_count": 20,
   "metadata": {},
   "outputs": [
    {
     "data": {
      "text/plain": [
       "True"
      ]
     },
     "execution_count": 20,
     "metadata": {},
     "output_type": "execute_result"
    }
   ],
   "source": [
    "A is B"
   ]
  },
  {
   "cell_type": "code",
   "execution_count": 22,
   "metadata": {},
   "outputs": [
    {
     "data": {
      "text/plain": [
       "140725773061888"
      ]
     },
     "execution_count": 22,
     "metadata": {},
     "output_type": "execute_result"
    }
   ],
   "source": [
    "id(A)"
   ]
  },
  {
   "cell_type": "code",
   "execution_count": 25,
   "metadata": {},
   "outputs": [],
   "source": [
    "cc = [1, 2, 3]\n",
    "aa = bb = cc"
   ]
  },
  {
   "cell_type": "code",
   "execution_count": 26,
   "metadata": {},
   "outputs": [
    {
     "data": {
      "text/plain": [
       "True"
      ]
     },
     "execution_count": 26,
     "metadata": {},
     "output_type": "execute_result"
    }
   ],
   "source": [
    "aa is bb"
   ]
  },
  {
   "cell_type": "code",
   "execution_count": 27,
   "metadata": {},
   "outputs": [
    {
     "data": {
      "text/plain": [
       "2328607986760"
      ]
     },
     "execution_count": 27,
     "metadata": {},
     "output_type": "execute_result"
    }
   ],
   "source": [
    "id(aa)"
   ]
  },
  {
   "cell_type": "code",
   "execution_count": 28,
   "metadata": {},
   "outputs": [
    {
     "data": {
      "text/plain": [
       "2328607986760"
      ]
     },
     "execution_count": 28,
     "metadata": {},
     "output_type": "execute_result"
    }
   ],
   "source": [
    "id(bb)"
   ]
  },
  {
   "cell_type": "code",
   "execution_count": 29,
   "metadata": {},
   "outputs": [
    {
     "data": {
      "text/plain": [
       "[0, 2, 3]"
      ]
     },
     "execution_count": 29,
     "metadata": {},
     "output_type": "execute_result"
    }
   ],
   "source": [
    "aa[0] = 0\n",
    "aa"
   ]
  },
  {
   "cell_type": "code",
   "execution_count": 30,
   "metadata": {},
   "outputs": [
    {
     "data": {
      "text/plain": [
       "2328607986760"
      ]
     },
     "execution_count": 30,
     "metadata": {},
     "output_type": "execute_result"
    }
   ],
   "source": [
    "id(aa)"
   ]
  },
  {
   "cell_type": "code",
   "execution_count": 31,
   "metadata": {},
   "outputs": [
    {
     "data": {
      "text/plain": [
       "[0, 2, 3]"
      ]
     },
     "execution_count": 31,
     "metadata": {},
     "output_type": "execute_result"
    }
   ],
   "source": [
    "bb"
   ]
  },
  {
   "cell_type": "code",
   "execution_count": 39,
   "metadata": {},
   "outputs": [
    {
     "data": {
      "text/plain": [
       "True"
      ]
     },
     "execution_count": 39,
     "metadata": {},
     "output_type": "execute_result"
    }
   ],
   "source": [
    "aa is bb"
   ]
  },
  {
   "cell_type": "code",
   "execution_count": 59,
   "metadata": {},
   "outputs": [
    {
     "name": "stdout",
     "output_type": "stream",
     "text": [
      "Please input your name:python\n"
     ]
    },
    {
     "data": {
      "text/plain": [
       "True"
      ]
     },
     "execution_count": 59,
     "metadata": {},
     "output_type": "execute_result"
    }
   ],
   "source": [
    "name = input(\"Please input your name:\")\n",
    "name.endswith((\"py\", \"on\"))"
   ]
  },
  {
   "cell_type": "code",
   "execution_count": 71,
   "metadata": {},
   "outputs": [
    {
     "data": {
      "text/plain": [
       "True"
      ]
     },
     "execution_count": 71,
     "metadata": {},
     "output_type": "execute_result"
    }
   ],
   "source": [
    "dit = {\"name\":\"json\",\"age\":18,\"sex\":\"male\"}\n",
    "temp = {\"sex\":\"male\"}\n",
    "(\"name\", \"json\") in dit.items()"
   ]
  },
  {
   "cell_type": "code",
   "execution_count": 60,
   "metadata": {},
   "outputs": [
    {
     "data": {
      "text/plain": [
       "32"
      ]
     },
     "execution_count": 60,
     "metadata": {},
     "output_type": "execute_result"
    }
   ],
   "source": [
    "job = [\"移动端深度学习开发工程师\", \"资深自然语言处理工程师——基于任务的多轮对话系统\", \n",
    "       \"资深自然语言处理工程师——知识抽取（参数抽取）\", \"算法开发工程师\", \"产品经理（互联网金融）\", \n",
    "       \"产品经理\",\"反欺诈产品经理\", \"智能认证产品经理\", \"IOS安全工程师\", \"android安全工程师\", \n",
    "       \"政府数据拓展岗(上海or北京）\", \"账务运营岗\", \"项目经理\", \"PMO（2.4ORB）\", \"架构师\", \n",
    "       \"产品经理（售前）\", \"产品经理（数据）\", \"产品经理(SA)\", \"售前支持\", \"产品经理（贷款方向）\",\n",
    "       \"ETL(数据开发/模型类）\", \"数据挖掘工程师（工程）\", \"解决方案高级顾问\", \"数据分析岗\", \"数据建模专家\", \n",
    "       \"产品经理（交互体验方向）\", \"产品经理（数据可视化方向）\", \"数据挖掘工程师(研发)\", \"大数据专家（OLAP平台方向）\", \n",
    "       \"大数据专家（机器学习）\", \"Java工程师\", \"面试者\"]\n",
    "len(job)"
   ]
  },
  {
   "cell_type": "code",
   "execution_count": 61,
   "metadata": {},
   "outputs": [
    {
     "data": {
      "text/plain": [
       "74"
      ]
     },
     "execution_count": 61,
     "metadata": {},
     "output_type": "execute_result"
    }
   ],
   "source": [
    "group = [\"总经理室\", \"运营支持团队\", \"标杆行研发团队\", \"个贷渠道一团队\", \"系统运维团队\", \"解决方案团队\",\n",
    "         \"智能运营团队\", \"智能风控团队\", \"个贷产品团队\", \"行政管理团队\", \"核心行研发团队\", \"信用账户团队\", \n",
    "         \"信贷云团队\", \"投资云研发团队\", \"个贷运营团队\", \"智能平台团队\", \"客户端团队\", \"创新科技团队\", \n",
    "         \"个贷风控团队\", \"中后台研发团队\", \"业务管理团队\", \"共享平台团队\", \"区块链团队\", \"信息安全团队\", \n",
    "         \"公共服务团队\", \"同业研发团队\", \"中小微风控团队\", \"平台规划团队\", \"产品团队\", \"银行云研发团队\", \n",
    "         \"账户支付团队\", \"南区市场拓展团队\", \" 中小银行联盟办公室\", \"业务规划团队\", \"人力资源团队\", \n",
    "         \"开放平台研发团队\", \"个贷渠道二团队\", \"法律合规团队\", \"风险管理团队\", \"基金一账通团队\", \"东区市场拓展团队\", \n",
    "         \"商城与运营团队\", \"战略与商务智能团队\", \"贷款研发团队\", \"业务拓展团队\", \"项目管理团队\", \"智能营销团队\", \n",
    "         \"财务企划团队\", \"小企业信贷研发团队\", \"同业研究团队\", \"资产管理团队\", \"一账通研发团队\", \"售前与实施团队\",\n",
    "         \"战略融资项目团队\", \"营销支持团队\", \"测试团队\", \"交易风控团队\", \"用户体验团队\", \"平台合作及运营团队\", \n",
    "         \"标杆行业务团队\", \"投行与资本市场团队\", \"售前团队\", \"捷银支付团队\", \"品牌公关团队\", \"保险研发团队\", \n",
    "         \"北区市场拓展团队\", \"个贷银行合作团队\", \"移动银行团队\", \"西区市场拓展团队\", \"加马人工智能研究院\", \n",
    "         \"董事长办公室\", \"一账通业务团队\", \"反欺诈团队\", \"寿险新渠道AI面试官招博团队\"]\n",
    "len(group)"
   ]
  },
  {
   "cell_type": "code",
   "execution_count": 22,
   "metadata": {},
   "outputs": [
    {
     "data": {
      "text/plain": [
       "False"
      ]
     },
     "execution_count": 22,
     "metadata": {},
     "output_type": "execute_result"
    }
   ],
   "source": [
    "\"a\".lower() < \"A\".lower()"
   ]
  },
  {
   "cell_type": "markdown",
   "metadata": {},
   "source": [
    "## if"
   ]
  },
  {
   "cell_type": "code",
   "execution_count": 25,
   "metadata": {},
   "outputs": [
    {
     "name": "stdout",
     "output_type": "stream",
     "text": [
      "Please input your name:\n",
      "Hello, Linus!\n"
     ]
    }
   ],
   "source": [
    "name = input(\"Please input your name:\") or \"Linus\"  # 若有一个为空，将真值赋值给变量\n",
    "if name == \"Goslin\":\n",
    "    print(\"Hello, Goslin!\")\n",
    "elif name == \"Linus\":\n",
    "    print(\"Hello, Linus!\")\n",
    "else:\n",
    "    print(\"Caution! Stranger!\")"
   ]
  },
  {
   "cell_type": "markdown",
   "metadata": {},
   "source": [
    "## 断言  \n",
    "不满足特定条件，主动将程序崩溃"
   ]
  },
  {
   "cell_type": "code",
   "execution_count": 28,
   "metadata": {},
   "outputs": [
    {
     "name": "stdout",
     "output_type": "stream",
     "text": [
      "Please input a realistic numble:0\n"
     ]
    },
    {
     "ename": "AssertionError",
     "evalue": "The value must be realistic.",
     "output_type": "error",
     "traceback": [
      "\u001b[1;31m---------------------------------------------------------------------------\u001b[0m",
      "\u001b[1;31mAssertionError\u001b[0m                            Traceback (most recent call last)",
      "\u001b[1;32m<ipython-input-28-71f6444456fb>\u001b[0m in \u001b[0;36m<module>\u001b[1;34m\u001b[0m\n\u001b[0;32m      1\u001b[0m \u001b[0ma\u001b[0m \u001b[1;33m=\u001b[0m \u001b[0mint\u001b[0m\u001b[1;33m(\u001b[0m\u001b[0minput\u001b[0m\u001b[1;33m(\u001b[0m\u001b[1;34m\"Please input a realistic numble:\"\u001b[0m\u001b[1;33m)\u001b[0m\u001b[1;33m)\u001b[0m\u001b[1;33m\u001b[0m\u001b[1;33m\u001b[0m\u001b[0m\n\u001b[1;32m----> 2\u001b[1;33m \u001b[1;32massert\u001b[0m \u001b[0ma\u001b[0m \u001b[1;33m>\u001b[0m \u001b[1;36m0\u001b[0m\u001b[1;33m,\u001b[0m \u001b[1;34m\"The value must be realistic.\"\u001b[0m\u001b[1;33m\u001b[0m\u001b[1;33m\u001b[0m\u001b[0m\n\u001b[0m\u001b[0;32m      3\u001b[0m \u001b[0mprint\u001b[0m\u001b[1;33m(\u001b[0m\u001b[1;34m\"Hello tensorflow\"\u001b[0m\u001b[1;33m)\u001b[0m\u001b[1;33m\u001b[0m\u001b[1;33m\u001b[0m\u001b[0m\n",
      "\u001b[1;31mAssertionError\u001b[0m: The value must be realistic."
     ]
    }
   ],
   "source": [
    "a = int(input(\"Please input a realistic numble:\"))\n",
    "assert a > 0, \"The value must be realistic.\"\n",
    "print(\"Hello tensorflow\")"
   ]
  },
  {
   "cell_type": "markdown",
   "metadata": {},
   "source": [
    "## while"
   ]
  },
  {
   "cell_type": "code",
   "execution_count": 31,
   "metadata": {},
   "outputs": [
    {
     "name": "stdout",
     "output_type": "stream",
     "text": [
      "Please input your name:\n",
      "Please input your name: \n",
      "Please input your name:tensorflow\n",
      "Hello, tensorflow\n"
     ]
    }
   ],
   "source": [
    "name = \"\"\n",
    "while not name.strip():\n",
    "    name = input(\"Please input your name:\")\n",
    "    print(\"Hello, {}!\".format(name))"
   ]
  },
  {
   "cell_type": "code",
   "execution_count": 3,
   "metadata": {
    "code_folding": []
   },
   "outputs": [
    {
     "name": "stdout",
     "output_type": "stream",
     "text": [
      "Please enter a word:hello\n",
      "Please enter a word:\n"
     ]
    }
   ],
   "source": [
    "while True:\n",
    "    word = input(\"Please enter a word:\")\n",
    "    if not word:\n",
    "        break"
   ]
  },
  {
   "cell_type": "markdown",
   "metadata": {},
   "source": [
    "## for"
   ]
  },
  {
   "cell_type": "code",
   "execution_count": 44,
   "metadata": {},
   "outputs": [
    {
     "name": "stdout",
     "output_type": "stream",
     "text": [
      "1 2 3 4 5 6 7 8 9 10 "
     ]
    }
   ],
   "source": [
    "for i in range(1, 11):\n",
    "    print(\"{}\".format(i), end=\" \")  # 不换行输出"
   ]
  },
  {
   "cell_type": "code",
   "execution_count": 49,
   "metadata": {},
   "outputs": [
    {
     "name": "stdout",
     "output_type": "stream",
     "text": [
      "\r",
      "1 \r",
      "2 \r",
      "3 \r",
      "4 \r",
      "5 \r",
      "6 \r",
      "7 \r",
      "8 \r",
      "9 \r",
      "10 "
     ]
    }
   ],
   "source": [
    "for i in range(1, 11):\n",
    "    print(\"\\r{}\".format(i), end=\" \")  # 不换行并覆盖输出"
   ]
  },
  {
   "cell_type": "code",
   "execution_count": 45,
   "metadata": {},
   "outputs": [],
   "source": [
    "names = [\"Goslin\", \"Linus\", \"Thompson\", \"Turing\"]\n",
    "ages = [22, 33, 26, 24]"
   ]
  },
  {
   "cell_type": "code",
   "execution_count": 47,
   "metadata": {},
   "outputs": [
    {
     "data": {
      "text/plain": [
       "{'Goslin': 22, 'Linus': 33, 'Thompson': 26, 'Turing': 24}"
      ]
     },
     "execution_count": 47,
     "metadata": {},
     "output_type": "execute_result"
    }
   ],
   "source": [
    "info = {k:v for k, v in zip(names, ages)}  # zip连接两个序列，合并为一个元组序列，返回值类型为iterator\n",
    "info"
   ]
  },
  {
   "cell_type": "code",
   "execution_count": 48,
   "metadata": {},
   "outputs": [
    {
     "data": {
      "text/plain": [
       "{'Goslin': 22, 'Linus': 33, 'Thompson': 26, 'Turing': 24}"
      ]
     },
     "execution_count": 48,
     "metadata": {},
     "output_type": "execute_result"
    }
   ],
   "source": [
    "dict(zip(names, ages))  # 直接将两个序列转换成字典"
   ]
  },
  {
   "cell_type": "markdown",
   "metadata": {},
   "source": [
    "### 迭代时获取索引"
   ]
  },
  {
   "cell_type": "code",
   "execution_count": 54,
   "metadata": {},
   "outputs": [],
   "source": [
    "strings = [\"apple\", \"samsung\", \"huawei\", \"xiaom\", \"oppo\", \"vivo\"]\n",
    "for i, string in enumerate(strings):\n",
    "    if \"apple\" in string:\n",
    "        strings[i] = \"huawei\""
   ]
  },
  {
   "cell_type": "code",
   "execution_count": 55,
   "metadata": {},
   "outputs": [
    {
     "data": {
      "text/plain": [
       "['huawei', 'samsung', 'huawei', 'xiaom', 'oppo', 'vivo']"
      ]
     },
     "execution_count": 55,
     "metadata": {},
     "output_type": "execute_result"
    }
   ],
   "source": [
    "strings"
   ]
  },
  {
   "cell_type": "markdown",
   "metadata": {},
   "source": [
    "### 迭代工具"
   ]
  },
  {
   "cell_type": "code",
   "execution_count": 1,
   "metadata": {},
   "outputs": [],
   "source": [
    "variable = [\"name\", \"age\", \"sex\"]\n",
    "value = [\"Linus\", 24, \"male\"]\n",
    "info = dict(zip(variable, value))"
   ]
  },
  {
   "cell_type": "code",
   "execution_count": 9,
   "metadata": {},
   "outputs": [
    {
     "name": "stdout",
     "output_type": "stream",
     "text": [
      "name age sex "
     ]
    }
   ],
   "source": [
    "for key in info.keys():\n",
    "    print(key, end=\" \")"
   ]
  },
  {
   "cell_type": "code",
   "execution_count": 3,
   "metadata": {},
   "outputs": [
    {
     "name": "stdout",
     "output_type": "stream",
     "text": [
      "Linus 24 male "
     ]
    }
   ],
   "source": [
    "for value in  info.values():\n",
    "    print(value, end=\" \")"
   ]
  },
  {
   "cell_type": "code",
   "execution_count": 7,
   "metadata": {},
   "outputs": [
    {
     "name": "stdout",
     "output_type": "stream",
     "text": [
      "name: Linus\n",
      "age: 24\n",
      "sex: male\n"
     ]
    }
   ],
   "source": [
    "for key, value in info.items():\n",
    "    print(key + \":\", value)"
   ]
  },
  {
   "cell_type": "code",
   "execution_count": 34,
   "metadata": {},
   "outputs": [],
   "source": [
    "strings = [\"apple\", \"samsung\", \"huawei\", \"xiaom\", \"oppo\", \"vivo\"]"
   ]
  },
  {
   "cell_type": "code",
   "execution_count": 38,
   "metadata": {},
   "outputs": [
    {
     "data": {
      "text/plain": [
       "['xiaom', 'vivo', 'samsung', 'oppo', 'huawei', 'apple']"
      ]
     },
     "execution_count": 38,
     "metadata": {},
     "output_type": "execute_result"
    }
   ],
   "source": [
    "sorted(strings, reverse=True)"
   ]
  },
  {
   "cell_type": "code",
   "execution_count": 37,
   "metadata": {},
   "outputs": [
    {
     "data": {
      "text/plain": [
       "['vivo', 'oppo', 'xiaom', 'huawei', 'samsung', 'apple']"
      ]
     },
     "execution_count": 37,
     "metadata": {},
     "output_type": "execute_result"
    }
   ],
   "source": [
    "list(reversed(strings))"
   ]
  },
  {
   "cell_type": "markdown",
   "metadata": {},
   "source": [
    "### 使用else  \n",
    "for中没有运行break, 则运行else"
   ]
  },
  {
   "cell_type": "code",
   "execution_count": 5,
   "metadata": {},
   "outputs": [
    {
     "name": "stdout",
     "output_type": "stream",
     "text": [
      "Didn't find the value!\n"
     ]
    }
   ],
   "source": [
    "from  math import sqrt\n",
    "for i in range(99, 81, -1):\n",
    "    root = sqrt(i)\n",
    "    if root == int(root):\n",
    "        print(i)\n",
    "        break\n",
    "else:\n",
    "    print(\"Didn't find the value!\")"
   ]
  },
  {
   "cell_type": "markdown",
   "metadata": {},
   "source": [
    "### 简单推导"
   ]
  },
  {
   "cell_type": "code",
   "execution_count": 3,
   "metadata": {},
   "outputs": [
    {
     "data": {
      "text/plain": [
       "[0, 4, 16, 36, 64]"
      ]
     },
     "execution_count": 3,
     "metadata": {},
     "output_type": "execute_result"
    }
   ],
   "source": [
    "[pow(x, 2) for x in range(10) if x%2 == 0]"
   ]
  },
  {
   "cell_type": "code",
   "execution_count": 4,
   "metadata": {},
   "outputs": [
    {
     "data": {
      "text/plain": [
       "[(0, 0), (0, 1), (0, 2), (1, 0), (1, 1), (1, 2), (2, 0), (2, 1), (2, 2)]"
      ]
     },
     "execution_count": 4,
     "metadata": {},
     "output_type": "execute_result"
    }
   ],
   "source": [
    "[(x, y) for x in range(3) for y in range(3)]"
   ]
  },
  {
   "cell_type": "code",
   "execution_count": 10,
   "metadata": {},
   "outputs": [
    {
     "data": {
      "text/plain": [
       "['anounce+alice', 'bob+bill', 'bob+banana', 'curthy+cancy']"
      ]
     },
     "execution_count": 10,
     "metadata": {},
     "output_type": "execute_result"
    }
   ],
   "source": [
    "# 连接首字母相同的男孩和女孩的名字\n",
    "import time\n",
    "boys = [\"anounce\", \"bob\", \"curthy\"]\n",
    "girls = [\"alice\", \"bill\", \"cancy\", \"banana\"]\n",
    "\n",
    "girls_dict = {}\n",
    "for girl in girls:\n",
    "    girls_dict.setdefault(girl[0], []).append(girl)\n",
    "[b+ \"+\" +g for b in boys for g in girls_dict[b[0]]]"
   ]
  },
  {
   "cell_type": "code",
   "execution_count": null,
   "metadata": {},
   "outputs": [],
   "source": []
  }
 ],
 "metadata": {
  "kernelspec": {
   "display_name": "Python 3",
   "language": "python",
   "name": "python3"
  },
  "language_info": {
   "codemirror_mode": {
    "name": "ipython",
    "version": 3
   },
   "file_extension": ".py",
   "mimetype": "text/x-python",
   "name": "python",
   "nbconvert_exporter": "python",
   "pygments_lexer": "ipython3",
   "version": "3.7.2"
  },
  "toc": {
   "base_numbering": 1,
   "nav_menu": {},
   "number_sections": true,
   "sideBar": true,
   "skip_h1_title": false,
   "title_cell": "Table of Contents",
   "title_sidebar": "Contents",
   "toc_cell": false,
   "toc_position": {
    "height": "399.333px",
    "left": "261px",
    "top": "204px",
    "width": "256px"
   },
   "toc_section_display": true,
   "toc_window_display": true
  }
 },
 "nbformat": 4,
 "nbformat_minor": 2
}
